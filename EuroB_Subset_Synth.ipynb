{
  "cells": [
    {
      "cell_type": "markdown",
      "metadata": {
        "id": "view-in-github",
        "colab_type": "text"
      },
      "source": [
        "<a href=\"https://colab.research.google.com/github/margaretfoster/IRTM-Synth/blob/master/EuroB_Subset_Synth.ipynb\" target=\"_parent\"><img src=\"https://colab.research.google.com/assets/colab-badge.svg\" alt=\"Open In Colab\"/></a>"
      ]
    },
    {
      "cell_type": "markdown",
      "metadata": {
        "id": "XnZD1qyYGrLw"
      },
      "source": [
        "Following the quickstart:\n",
        "https://docs.synthetic.ydata.ai/1.3/getting-started/quickstart/#synthesizing-a-tabular-dataset"
      ]
    },
    {
      "cell_type": "markdown",
      "metadata": {
        "id": "Y_HeihwO3Ocv"
      },
      "source": [
        "Install the package:"
      ]
    },
    {
      "cell_type": "markdown",
      "metadata": {
        "id": "ZD9op9DO3Nng"
      },
      "source": []
    },
    {
      "cell_type": "code",
      "execution_count": 1,
      "metadata": {
        "id": "kc4vP8Tu3Eeh"
      },
      "outputs": [],
      "source": [
        " #!pip install ydata-synthetic==1.1.0"
      ]
    },
    {
      "cell_type": "code",
      "execution_count": null,
      "metadata": {
        "id": "01RmQuyA4MpP"
      },
      "outputs": [],
      "source": []
    },
    {
      "cell_type": "markdown",
      "metadata": {
        "id": "x2YOuaUv4T0G"
      },
      "source": [
        "Authenticate:"
      ]
    },
    {
      "cell_type": "code",
      "execution_count": 2,
      "metadata": {
        "colab": {
          "base_uri": "https://localhost:8080/"
        },
        "id": "hdOH9erj4XCn",
        "outputId": "f7e901f1-61f8-4edb-a39d-8d46e8931385"
      },
      "outputs": [
        {
          "output_type": "stream",
          "name": "stdout",
          "text": [
            "Mounted at /content/drive\n"
          ]
        }
      ],
      "source": [
        "import os\n",
        "import pandas as pd\n",
        "import io\n",
        "from google.colab import files #to load local data\n",
        "from google.colab import drive\n",
        "\n",
        "import ydata_synthetic\n",
        "from ydata_synthetic.synthesizers.regular import RegularSynthesizer #for tabular\n",
        "from ydata_synthetic.synthesizers import ModelParameters, TrainParameters\n",
        "\n",
        "drive.mount('/content/drive')"
      ]
    },
    {
      "cell_type": "markdown",
      "metadata": {
        "id": "r4A476DgHSxo"
      },
      "source": [
        "Authentication token:"
      ]
    },
    {
      "cell_type": "code",
      "execution_count": 19,
      "metadata": {
        "id": "thVzjJ0gHRq8"
      },
      "outputs": [],
      "source": [
        "\n",
        "token = 'your_token_here'\n",
        "os.environ[\"YDATA_TOKEN\"] = token"
      ]
    },
    {
      "cell_type": "markdown",
      "metadata": {
        "id": "yhGw8SIk4Sle"
      },
      "source": []
    },
    {
      "cell_type": "markdown",
      "metadata": {
        "id": "9qcHLQ6mGysn"
      },
      "source": [
        "Load data, previously uploaded to Google Drive:"
      ]
    },
    {
      "cell_type": "code",
      "execution_count": null,
      "metadata": {
        "colab": {
          "base_uri": "https://localhost:8080/",
          "height": 76
        },
        "id": "7-r5K22jG0bq",
        "outputId": "11bbdeaa-599f-4575-89e8-c0e32fcb8de6"
      },
      "outputs": [
        {
          "data": {
            "text/html": [
              "\n",
              "     <input type=\"file\" id=\"files-987cec02-a8fd-4547-9b5f-b0dc51c66a34\" name=\"files[]\" multiple disabled\n",
              "        style=\"border:none\" />\n",
              "     <output id=\"result-987cec02-a8fd-4547-9b5f-b0dc51c66a34\">\n",
              "      Upload widget is only available when the cell has been executed in the\n",
              "      current browser session. Please rerun this cell to enable.\n",
              "      </output>\n",
              "      <script>// Copyright 2017 Google LLC\n",
              "//\n",
              "// Licensed under the Apache License, Version 2.0 (the \"License\");\n",
              "// you may not use this file except in compliance with the License.\n",
              "// You may obtain a copy of the License at\n",
              "//\n",
              "//      http://www.apache.org/licenses/LICENSE-2.0\n",
              "//\n",
              "// Unless required by applicable law or agreed to in writing, software\n",
              "// distributed under the License is distributed on an \"AS IS\" BASIS,\n",
              "// WITHOUT WARRANTIES OR CONDITIONS OF ANY KIND, either express or implied.\n",
              "// See the License for the specific language governing permissions and\n",
              "// limitations under the License.\n",
              "\n",
              "/**\n",
              " * @fileoverview Helpers for google.colab Python module.\n",
              " */\n",
              "(function(scope) {\n",
              "function span(text, styleAttributes = {}) {\n",
              "  const element = document.createElement('span');\n",
              "  element.textContent = text;\n",
              "  for (const key of Object.keys(styleAttributes)) {\n",
              "    element.style[key] = styleAttributes[key];\n",
              "  }\n",
              "  return element;\n",
              "}\n",
              "\n",
              "// Max number of bytes which will be uploaded at a time.\n",
              "const MAX_PAYLOAD_SIZE = 100 * 1024;\n",
              "\n",
              "function _uploadFiles(inputId, outputId) {\n",
              "  const steps = uploadFilesStep(inputId, outputId);\n",
              "  const outputElement = document.getElementById(outputId);\n",
              "  // Cache steps on the outputElement to make it available for the next call\n",
              "  // to uploadFilesContinue from Python.\n",
              "  outputElement.steps = steps;\n",
              "\n",
              "  return _uploadFilesContinue(outputId);\n",
              "}\n",
              "\n",
              "// This is roughly an async generator (not supported in the browser yet),\n",
              "// where there are multiple asynchronous steps and the Python side is going\n",
              "// to poll for completion of each step.\n",
              "// This uses a Promise to block the python side on completion of each step,\n",
              "// then passes the result of the previous step as the input to the next step.\n",
              "function _uploadFilesContinue(outputId) {\n",
              "  const outputElement = document.getElementById(outputId);\n",
              "  const steps = outputElement.steps;\n",
              "\n",
              "  const next = steps.next(outputElement.lastPromiseValue);\n",
              "  return Promise.resolve(next.value.promise).then((value) => {\n",
              "    // Cache the last promise value to make it available to the next\n",
              "    // step of the generator.\n",
              "    outputElement.lastPromiseValue = value;\n",
              "    return next.value.response;\n",
              "  });\n",
              "}\n",
              "\n",
              "/**\n",
              " * Generator function which is called between each async step of the upload\n",
              " * process.\n",
              " * @param {string} inputId Element ID of the input file picker element.\n",
              " * @param {string} outputId Element ID of the output display.\n",
              " * @return {!Iterable<!Object>} Iterable of next steps.\n",
              " */\n",
              "function* uploadFilesStep(inputId, outputId) {\n",
              "  const inputElement = document.getElementById(inputId);\n",
              "  inputElement.disabled = false;\n",
              "\n",
              "  const outputElement = document.getElementById(outputId);\n",
              "  outputElement.innerHTML = '';\n",
              "\n",
              "  const pickedPromise = new Promise((resolve) => {\n",
              "    inputElement.addEventListener('change', (e) => {\n",
              "      resolve(e.target.files);\n",
              "    });\n",
              "  });\n",
              "\n",
              "  const cancel = document.createElement('button');\n",
              "  inputElement.parentElement.appendChild(cancel);\n",
              "  cancel.textContent = 'Cancel upload';\n",
              "  const cancelPromise = new Promise((resolve) => {\n",
              "    cancel.onclick = () => {\n",
              "      resolve(null);\n",
              "    };\n",
              "  });\n",
              "\n",
              "  // Wait for the user to pick the files.\n",
              "  const files = yield {\n",
              "    promise: Promise.race([pickedPromise, cancelPromise]),\n",
              "    response: {\n",
              "      action: 'starting',\n",
              "    }\n",
              "  };\n",
              "\n",
              "  cancel.remove();\n",
              "\n",
              "  // Disable the input element since further picks are not allowed.\n",
              "  inputElement.disabled = true;\n",
              "\n",
              "  if (!files) {\n",
              "    return {\n",
              "      response: {\n",
              "        action: 'complete',\n",
              "      }\n",
              "    };\n",
              "  }\n",
              "\n",
              "  for (const file of files) {\n",
              "    const li = document.createElement('li');\n",
              "    li.append(span(file.name, {fontWeight: 'bold'}));\n",
              "    li.append(span(\n",
              "        `(${file.type || 'n/a'}) - ${file.size} bytes, ` +\n",
              "        `last modified: ${\n",
              "            file.lastModifiedDate ? file.lastModifiedDate.toLocaleDateString() :\n",
              "                                    'n/a'} - `));\n",
              "    const percent = span('0% done');\n",
              "    li.appendChild(percent);\n",
              "\n",
              "    outputElement.appendChild(li);\n",
              "\n",
              "    const fileDataPromise = new Promise((resolve) => {\n",
              "      const reader = new FileReader();\n",
              "      reader.onload = (e) => {\n",
              "        resolve(e.target.result);\n",
              "      };\n",
              "      reader.readAsArrayBuffer(file);\n",
              "    });\n",
              "    // Wait for the data to be ready.\n",
              "    let fileData = yield {\n",
              "      promise: fileDataPromise,\n",
              "      response: {\n",
              "        action: 'continue',\n",
              "      }\n",
              "    };\n",
              "\n",
              "    // Use a chunked sending to avoid message size limits. See b/62115660.\n",
              "    let position = 0;\n",
              "    do {\n",
              "      const length = Math.min(fileData.byteLength - position, MAX_PAYLOAD_SIZE);\n",
              "      const chunk = new Uint8Array(fileData, position, length);\n",
              "      position += length;\n",
              "\n",
              "      const base64 = btoa(String.fromCharCode.apply(null, chunk));\n",
              "      yield {\n",
              "        response: {\n",
              "          action: 'append',\n",
              "          file: file.name,\n",
              "          data: base64,\n",
              "        },\n",
              "      };\n",
              "\n",
              "      let percentDone = fileData.byteLength === 0 ?\n",
              "          100 :\n",
              "          Math.round((position / fileData.byteLength) * 100);\n",
              "      percent.textContent = `${percentDone}% done`;\n",
              "\n",
              "    } while (position < fileData.byteLength);\n",
              "  }\n",
              "\n",
              "  // All done.\n",
              "  yield {\n",
              "    response: {\n",
              "      action: 'complete',\n",
              "    }\n",
              "  };\n",
              "}\n",
              "\n",
              "scope.google = scope.google || {};\n",
              "scope.google.colab = scope.google.colab || {};\n",
              "scope.google.colab._files = {\n",
              "  _uploadFiles,\n",
              "  _uploadFilesContinue,\n",
              "};\n",
              "})(self);\n",
              "</script> "
            ],
            "text/plain": [
              "<IPython.core.display.HTML object>"
            ]
          },
          "metadata": {},
          "output_type": "display_data"
        },
        {
          "name": "stdout",
          "output_type": "stream",
          "text": [
            "Saving eurob_toy.csv to eurob_toy (1).csv\n"
          ]
        }
      ],
      "source": [
        "#uploaded = files.upload()\n",
        "\n"
      ]
    },
    {
      "cell_type": "code",
      "execution_count": null,
      "metadata": {
        "id": "tSYmX-UYQ1xf"
      },
      "outputs": [],
      "source": []
    },
    {
      "cell_type": "code",
      "execution_count": 4,
      "metadata": {
        "colab": {
          "base_uri": "https://localhost:8080/"
        },
        "id": "_ae9PybpNgE-",
        "outputId": "6df8ac08-1d05-4a51-e5f9-d83b70c88378"
      },
      "outputs": [
        {
          "output_type": "stream",
          "name": "stdout",
          "text": [
            "(3872, 367)\n"
          ]
        }
      ],
      "source": [
        "#data_url =\"https://docs.google.com/spreadsheets/d/1sxw6tYkPYY66jKdSegJhLQvVL6pDsg79OZF8DmRXwaA/edit?usp=sharing\"\n",
        "#https://docs.google.com/spreadsheets/d/1-6MRByoVZUp7ZC8qDT3CV5jU709HpLupwX1L2IJzcfU/edit?usp=sharing\n",
        "#eurob_toy = pd.read_csv(data_url, on_bad_lines='warn') ## skips a lot of rows for unknown reason\n",
        "\n",
        "\n",
        "data_path = '/content/drive/MyDrive/Synthdata/'\n",
        "eurob_toy = pd.read_csv(data_path + 'eurob_toy.csv') ## loads as expected\n",
        "\n",
        "print(eurob_toy.shape) ## 3872, 360; 3872 is 10% of the original survey & 360 is questions + metadata\n",
        "\n",
        "\n",
        "\n"
      ]
    },
    {
      "cell_type": "markdown",
      "metadata": {
        "id": "b7C1ObeBBRqj"
      },
      "source": [
        "Determine NA structure:"
      ]
    },
    {
      "cell_type": "code",
      "execution_count": 5,
      "metadata": {
        "id": "oEsDfSEI3rEg"
      },
      "outputs": [],
      "source": [
        "nas = eurob_toy.isnull().sum(axis = 0)\n",
        "\n"
      ]
    },
    {
      "cell_type": "code",
      "execution_count": 6,
      "metadata": {
        "colab": {
          "base_uri": "https://localhost:8080/"
        },
        "id": "2PjgpgPqG63_",
        "outputId": "14670f83-bd97-4db3-f84a-e8295ea964ff"
      },
      "outputs": [
        {
          "output_type": "stream",
          "name": "stdout",
          "text": [
            "162\n",
            "['qb6_4', 'qa5_15', 'qa18_4', 'qb5_11', 'qd4b_4', 'qd3_2', 'qa20_8', 'qa9_3', 'qb2_2', 'qb3_4', 'qd4b_5', 'qa5_3', 'qb5_6', 'qb6_7', 'qa6b_12', 'qd6_2', 'qb5_5', 'qc4_1', 'qd4t_1', 'qd4t_4', 'qb3_2', 'qa11_2', 'qb5_9', 'qb5_3', 'qb1_1', 'qd3_6', 'qc4_5', 'qa9_2', 'qa20_6', 'qa15', 'qb6_1', 'qa7_4', 'qa6b_11', 'qd4a', 'qb2_1', 'qa5_2', 'qb5_12', 'qd4t_3', 'qa5_1', 'qb2_3', 'qd6_4', 'qb7_2', 'qa20_3', 'qd6_1', 'qc4_16', 'qd3_3', 'qb3_3', 'qc2_1', 'qa11_8', 'qb4_3', 'qc4_17', 'qa11_6', 'qa6e', 'qd7_4', 'qa20_10', 'qb6_3', 'qd4b_2', 'qa11_12', 'qc4_18', 'qd6_3', 'qa5_9', 'qc4_9', 'qd3_4', 'qd7_2', 'qb4_5', 'qa5_7', 'qb4_2', 'qb5_8', 'qb5_1', 'qa6f', 'qa6b_7', 'qb5_10', 'qd7_3', 'qd4t_5', 'qc4_2', 'qc4_4', 'qa5_12', 'qb2_4', 'qa20_2', 'qc4_8', 'qd4b_6', 'qa5_14', 'qa11_9', 'qb5_2', 'qa5_5', 'qc4_15', 'qc4_11', 'qc2_3', 'qa20_7', 'qb5_7', 'qa11_13', 'qd4b_8', 'qa11_4', 'qa11_7', 'qd4t_6', 'qc6_3', 'qc4_3', 'qb1_3', 'qb5_4', 'qa20_4', 'qc5_2', 'qd4t_8', 'qa20_9', 'qa8_3', 'qa8_4', 'qa11_15', 'qd7_1', 'qa6c', 'qa5_4', 'qa5_6', 'qb6_2', 'qa11_14', 'qa7_3', 'qa11_1', 'qd4t_7', 'qc6_2', 'sd22_4', 'd15b', 'd15b_r', 'qd4t_2', 'qb4_4', 'qa11_10', 'qa5_11', 'qd4b_7', 'qc5_1', 'qd3_5', 'qb6_6', 'qc6_1', 'd40_d11', 'qa20_5', 'qa9_1', 'qa13_3', 'qd6_5', 'qc4_12', 'qa6d', 'qa11_11', 'qc4_14', 'qa11_3', 'qa5_16', 'qa5_8', 'qb3_5', 'qc2_2', 'qd4b_3', 'qb7_1', 'qa12', 'qa4a_8', 'qd4tt', 'qc4_6', 'qc4_13', 'qb6_5', 'qd3_1', 'qb1_2', 'qa5_10', 'qa5_13', 'qb4_1', 'qa20_1', 'qd4b_1', 'qc4_10', 'qc4_7', 'qa11_5', 'qa3a_7', 'qd3t']\n",
            "195\n"
          ]
        }
      ],
      "source": [
        "#print(nas[nas > 0].sort_values(ascending=False)) #212 columns with some missing info\n",
        "\n",
        "print(len(nas[nas > 1000])) ## 162 columns with over > 1000 missing\n",
        "\n",
        "## Check what the columns are, and drop them\n",
        "##\n",
        "\n",
        "nas_thousand = list(nas[nas > 1000].index)\n",
        "print(nas_thousand) # check the col\n",
        "\n",
        "# NA strategy: impute for less than 25% missing, remove columns with more missingness.\n",
        "\n",
        "nas_quarter= list(nas[nas >= (len(nas)*.25)].index)\n",
        "print(len(nas_quarter)) #195\n"
      ]
    },
    {
      "cell_type": "code",
      "execution_count": 6,
      "metadata": {
        "id": "Oszdd19IGnXA"
      },
      "outputs": [],
      "source": []
    },
    {
      "cell_type": "markdown",
      "metadata": {
        "id": "qAmAy7w1F20n"
      },
      "source": [
        "At this point, in a real analysis, I would want to do some diagnostics about what distributions change after I remove the columns. Do we systematically lose countries, important questions, etc.\n",
        "\n",
        "For this proof-of-concept, I'll just do it though.\n",
        "\n",
        "---\n",
        "\n"
      ]
    },
    {
      "cell_type": "code",
      "execution_count": 7,
      "metadata": {
        "colab": {
          "base_uri": "https://localhost:8080/"
        },
        "id": "Vvls-Tz9IKQB",
        "outputId": "38fee799-ad58-4c45-9d43-516af700bab3"
      },
      "outputs": [
        {
          "output_type": "stream",
          "name": "stdout",
          "text": [
            "(3872, 172)\n",
            "17\n",
            "d73_4        53\n",
            "d73_2        53\n",
            "qa4a_14      53\n",
            "qa3a_9       53\n",
            "d73_1        53\n",
            "d73_3        53\n",
            "d40abc_r1    15\n",
            "d40abc_r4    15\n",
            "d40abc_r3    15\n",
            "d40abc_r2    15\n",
            "d40b         14\n",
            "d40c         14\n",
            "d40c_r       14\n",
            "d40b_r       14\n",
            "d40a          9\n",
            "d40a_r        9\n",
            "d25           2\n",
            "dtype: int64\n"
          ]
        }
      ],
      "source": [
        "ebt = eurob_toy.drop(columns= nas_quarter)\n",
        "\n",
        "print(ebt.shape) ## 19336 x 192\n",
        "\n",
        "## Another analysis of which columns are most missing in the data now:\n",
        "## note that there is a heavy concentration in questions d73 and d40, d25\n",
        "\n",
        "nas2 = ebt.isnull().sum(axis = 0)\n",
        "print(len(nas2[nas2>0])) ##48\n",
        "print(nas2[nas2 > 0].sort_values(ascending=False))"
      ]
    },
    {
      "cell_type": "markdown",
      "metadata": {
        "id": "aoj4peNKIXt8"
      },
      "source": [
        "Note that most of the missingness is concentrated in a few questions: here I'm going to code 999 (\"Don't Know\") for the missing variables that start with \"q\" or \"s\" and 0 for the other questions:"
      ]
    },
    {
      "cell_type": "code",
      "execution_count": 8,
      "metadata": {
        "id": "DaajAnt-FRWa"
      },
      "outputs": [],
      "source": [
        "## could done an if/else too, but this is easy to read:\n",
        "\n",
        "columns_fill_999 = [col for col in ebt.columns if col.startswith(('q', 's'))]\n",
        "columns_fill_0 = [col for col in ebt.columns if not col.startswith(('q', 's'))]\n",
        "\n",
        "\n",
        "### Fill:\n",
        "ebt[columns_fill_999] = ebt[columns_fill_999].fillna(999)\n",
        "ebt[columns_fill_0] = ebt[columns_fill_0].fillna(0)\n"
      ]
    },
    {
      "cell_type": "code",
      "execution_count": 9,
      "metadata": {
        "colab": {
          "base_uri": "https://localhost:8080/"
        },
        "id": "_8GUiQ-ZwZlJ",
        "outputId": "2e5c259e-d0da-408e-9212-9e8c95f27b5e"
      },
      "outputs": [
        {
          "output_type": "stream",
          "name": "stdout",
          "text": [
            "Series([], dtype: int64)\n"
          ]
        }
      ],
      "source": [
        "null_check2 = ebt.isnull().sum(axis = 0)\n",
        "print(null_check2[null_check2 > 0]) ## none, so we've filled our NAs"
      ]
    },
    {
      "cell_type": "code",
      "source": [],
      "metadata": {
        "id": "u6oupVbLBV04"
      },
      "execution_count": 9,
      "outputs": []
    },
    {
      "cell_type": "markdown",
      "source": [
        "Convert string values to numeric"
      ],
      "metadata": {
        "id": "v64OpbUFBZ9i"
      }
    },
    {
      "cell_type": "code",
      "source": [
        "ebt = ebt.applymap(lambda x: pd.to_numeric(x, errors='ignore'))"
      ],
      "metadata": {
        "id": "HnY4bA-sBbqx"
      },
      "execution_count": 10,
      "outputs": []
    },
    {
      "cell_type": "markdown",
      "metadata": {
        "id": "PnPGDtTSxGwr"
      },
      "source": [
        "Identify the categorical variables:"
      ]
    },
    {
      "cell_type": "code",
      "execution_count": 11,
      "metadata": {
        "colab": {
          "base_uri": "https://localhost:8080/"
        },
        "id": "DUCXpudqyaAc",
        "outputId": "f29e59da-8acf-4436-a800-d17f3f648357"
      },
      "outputs": [
        {
          "output_type": "stream",
          "name": "stdout",
          "text": [
            "['d15a', 'd8', 'd9r', 'd9', 'd7', 'isocntry', 'd11', 'uniqid']\n",
            "['d73_4', 'qa10_3', 'qd5_14', 'qa4a_5', 'qa2a_4', 'polintr_4', 'qa2a_5', 'd40b', 'qa6b_3', 'qa13_2', 'qa4a_4', 'd40a_r', 'd40abc_r3', 'qa4a_9', 'qa4a_13', 'qa6a_1', 'qa6a_2', 'qa2a_6', 'd70', 'qa3a_11', 'qa16', 'sd22_1', 'd40b_r', 'qa19', 'd62_4', 'polintr_1', 'qd5_6', 'qa6b_1', 'd62_2', 'netuse', 'd63', 'qa3a_17', 'qa6a_5', 'qc1a_4', 'd8r2', 'd1r2', 'd78', 'd1', 'qd5_15', 'd40c', 'd40abc_r1', 'sd22t7', 'd40abc_r4', 'qa4a_12', 'qa4a_17', 'd71_2', 'qc1a_1', 'qa1a_4', 'qa18_5', 'qa4a_18', 'qc1a_3', 'd11r1', 'qa17', 'qd5_2', 'd62_1', 'sd22t3', 'qa3a_4', 'd71_1', 'qa4a_15', 'd40abc_r2', 'qd5_1', 'qd1', 'qa2a_1', 'qd8_3', 'qa14', 'qa4a_1', 'sd22t8', 'qa1a_5', 'qa10_2', 'qa3a_3', 'qa4a_19', 'qa3a_10', 'd10', 'qa7_1', 'qa3a_2', 'qa3a_5', 'qd5_16', 'qa3a_8', 'qa3a_14', 'd73_2', 'd40c_r', 'd8r1', 'qd5_12', 'd1r1', 'sd22t6', 'qd5_9', 'd73_1', 'qa4a_16', 'd62_3', 'qa3a_16', 'qa13_1', 'qd5_10', 'qa8_1', 'qa6a_3', 'qa6b_10', 'qd5_8', 'qa6at', 'qa2a_3', 'qa1a_6', 'qa3a_15', 'qa4a_6', 'd71_3', 'sd22t2', 'qa1a_2', 'qc1a_2', 'd15a_r1', 'qd5_13', 'qa18_3', 'qd8_4', 'qd8_1', 'qa3a_18', 'qa3a_9', 'd40a', 'qa6b_8', 'polintr_3', 'qa3a_13', 'qa4a_11', 'd60', 'sd22t4', 'qd5_7', 'qa3a_6', 'qd2', 'qa4a_3', 'polintr_2', 'qa2a_2', 'qa4a_14', 'qa2a_7', 'qa1a_3', 'qa10_1', 'qd5_5', 'd25', 'sd22t5', 'qa3a_1', 'qd5t', 'qd8_2', 'qa1a_1', 'sd22_2', 'qd5_11', 'qa3a_12', 'qa8_2', 'qd5_4', 'sd22t1', 'd11r2', 'd7r', 'd15a_r2', 'qa18_1', 'qd5_3', 'd62t', 'qa18_2', 'd73_3', 'qa6a_4', 'qa4a_7', 'sd18a', 'qa4a_10', 'qa7_2', 'qa1a_7', 'qa4a_2', 'class', 'polorient', 'mediatrust', 'trustnom', 'trustallm', 'trustwebonly', 'trusttradm']\n"
          ]
        }
      ],
      "source": [
        "unique_counts = ebt.nunique() ## produces a series with unique value counts\n",
        "#print(unique_counts)[1:10]\n",
        "\n",
        "#print(unique_counts.value_counts()) ##\n",
        "\n",
        "## assuming fewer than 20 unique values = categorical\n",
        "## 20 is a large number for this, but a couple of the questions have\n",
        "## a lot of possible responses\n",
        "cat_cols = list(unique_counts[(unique_counts <= 15)].index)\n",
        "num_cols = list(unique_counts[unique_counts > 15].index)\n",
        "\n",
        "## qc3a is categorical\n",
        "## d8 is numeric\n",
        "print(num_cols)\n",
        "print(cat_cols)\n",
        "\n",
        "## Need to remove non-numeric strings\n",
        "##"
      ]
    },
    {
      "cell_type": "markdown",
      "metadata": {
        "id": "5N6Ps4es1qmh"
      },
      "source": [
        "Now we have a sample dataframe (\"ebt\") with:\n",
        "- No missing data\n",
        "- the categorical and numeric variables categorized (albeit according to a heuristic)\n"
      ]
    },
    {
      "cell_type": "markdown",
      "metadata": {
        "id": "HbU96DXBU28s"
      },
      "source": [
        "(Note that I had a change the call a bit from the video tutorial. The module name did not work, so I found a different tutorial)\n"
      ]
    },
    {
      "cell_type": "code",
      "execution_count": 12,
      "metadata": {
        "id": "31BKNlrD6uXg",
        "colab": {
          "base_uri": "https://localhost:8080/"
        },
        "outputId": "97a0bbc7-5c75-4861-be4d-dc701dfbb832"
      },
      "outputs": [
        {
          "output_type": "stream",
          "name": "stdout",
          "text": [
            "d73_4           float64\n",
            "qa10_3            int64\n",
            "qd5_14            int64\n",
            "qa4a_5            int64\n",
            "qa2a_4            int64\n",
            "                 ...   \n",
            "mediatrust        int64\n",
            "trustnom          int64\n",
            "trustallm         int64\n",
            "trustwebonly      int64\n",
            "trusttradm        int64\n",
            "Length: 172, dtype: object\n",
            "\n",
            "Data types of string variables:\n",
            "isocntry    object\n",
            "dtype: object\n"
          ]
        }
      ],
      "source": [
        "# prompt: print the types of each column in the ebt dataframe\n",
        "\n",
        "print(ebt.dtypes)\n",
        "\n",
        "\n",
        "print(\"\\nData types of string variables:\")\n",
        "string_columns = ebt.select_dtypes(include=['object']).columns\n",
        "print(ebt[string_columns].dtypes)\n",
        "\n",
        "## drop country:\n",
        "## hand synthetize it later\n",
        "\n",
        "ebt = ebt.drop('isocntry', axis=1)\n",
        "#ebt['isocntry'][1:5]\n",
        "\n",
        "\n"
      ]
    },
    {
      "cell_type": "markdown",
      "metadata": {
        "id": "ZsPugO9SVML9"
      },
      "source": [
        "Define the synthesizer and fit it to the dataset:\n",
        "```\n",
        "# This is formatted as code\n",
        "```\n",
        "\n"
      ]
    },
    {
      "cell_type": "code",
      "execution_count": 13,
      "metadata": {
        "colab": {
          "base_uri": "https://localhost:8080/"
        },
        "id": "Rf3RS_NCVQ8g",
        "outputId": "93a34f30-5f3c-48f9-d19b-ff950a1feb55"
      },
      "outputs": [
        {
          "output_type": "stream",
          "name": "stdout",
          "text": [
            "Epoch: 0 | critic_loss: -1.421227216720581 | generator_loss: 2.05618953704834\n",
            "Epoch: 1 | critic_loss: -2.964867115020752 | generator_loss: 2.4976720809936523\n",
            "Epoch: 2 | critic_loss: -2.483177423477173 | generator_loss: 1.3310519456863403\n",
            "Epoch: 3 | critic_loss: -1.412203311920166 | generator_loss: 0.06536722183227539\n",
            "Epoch: 4 | critic_loss: -0.5670332908630371 | generator_loss: -0.5608658790588379\n",
            "Epoch: 5 | critic_loss: 0.04318498075008392 | generator_loss: -0.6062780618667603\n",
            "Epoch: 6 | critic_loss: 0.4009580612182617 | generator_loss: -0.21152424812316895\n",
            "Epoch: 7 | critic_loss: 0.2642616927623749 | generator_loss: -0.615005373954773\n",
            "Epoch: 8 | critic_loss: 0.2662706673145294 | generator_loss: -0.6412056684494019\n",
            "Epoch: 9 | critic_loss: 0.03358301520347595 | generator_loss: -0.536262035369873\n",
            "Epoch: 10 | critic_loss: 0.19747582077980042 | generator_loss: -0.6555795669555664\n",
            "Epoch: 11 | critic_loss: 0.3405742049217224 | generator_loss: -0.4654531478881836\n",
            "Epoch: 12 | critic_loss: 0.4551025927066803 | generator_loss: -0.5161329507827759\n",
            "Epoch: 13 | critic_loss: -0.24965444207191467 | generator_loss: -0.9730398654937744\n",
            "Epoch: 14 | critic_loss: 0.550674557685852 | generator_loss: -1.1247106790542603\n",
            "Epoch: 15 | critic_loss: 0.11886882781982422 | generator_loss: -1.2602053880691528\n",
            "Epoch: 16 | critic_loss: 0.34356796741485596 | generator_loss: -1.3531421422958374\n",
            "Epoch: 17 | critic_loss: 0.04350975155830383 | generator_loss: -1.9454962015151978\n",
            "Epoch: 18 | critic_loss: 0.3822273015975952 | generator_loss: -1.5337811708450317\n",
            "Epoch: 19 | critic_loss: 0.18258774280548096 | generator_loss: -2.072777509689331\n",
            "Epoch: 20 | critic_loss: 0.21979038417339325 | generator_loss: -1.7780027389526367\n",
            "Epoch: 21 | critic_loss: 0.34064096212387085 | generator_loss: -1.5304269790649414\n",
            "Epoch: 22 | critic_loss: -0.2857307195663452 | generator_loss: -1.114498257637024\n",
            "Epoch: 23 | critic_loss: 0.36130911111831665 | generator_loss: -1.5286935567855835\n",
            "Epoch: 24 | critic_loss: -0.08186184614896774 | generator_loss: -1.721049427986145\n",
            "Epoch: 25 | critic_loss: 0.05120448023080826 | generator_loss: -2.0118207931518555\n",
            "Epoch: 26 | critic_loss: -0.421596884727478 | generator_loss: -1.734222173690796\n",
            "Epoch: 27 | critic_loss: -0.5887914299964905 | generator_loss: -1.7763510942459106\n",
            "Epoch: 28 | critic_loss: 0.19880852103233337 | generator_loss: -1.8680561780929565\n",
            "Epoch: 29 | critic_loss: 0.014521017670631409 | generator_loss: -2.6995177268981934\n",
            "Epoch: 30 | critic_loss: 0.4199938476085663 | generator_loss: -2.668644428253174\n",
            "Epoch: 31 | critic_loss: -0.5845606923103333 | generator_loss: -2.3060269355773926\n",
            "Epoch: 32 | critic_loss: 0.48895418643951416 | generator_loss: -2.5721898078918457\n",
            "Epoch: 33 | critic_loss: -0.30148813128471375 | generator_loss: -2.72558331489563\n",
            "Epoch: 34 | critic_loss: 0.6151366233825684 | generator_loss: -2.727781295776367\n",
            "Epoch: 35 | critic_loss: 0.5606192946434021 | generator_loss: -2.655879020690918\n",
            "Epoch: 36 | critic_loss: 0.026683226227760315 | generator_loss: -2.403073787689209\n",
            "Epoch: 37 | critic_loss: -0.3275319039821625 | generator_loss: -2.91143798828125\n",
            "Epoch: 38 | critic_loss: -0.09817300736904144 | generator_loss: -3.3206582069396973\n",
            "Epoch: 39 | critic_loss: 0.4969492554664612 | generator_loss: -3.46187162399292\n",
            "Epoch: 40 | critic_loss: -0.32417547702789307 | generator_loss: -2.792532444000244\n",
            "Epoch: 41 | critic_loss: -0.11569277197122574 | generator_loss: -3.067471981048584\n",
            "Epoch: 42 | critic_loss: -0.49177786707878113 | generator_loss: -2.7785415649414062\n",
            "Epoch: 43 | critic_loss: 0.19158032536506653 | generator_loss: -3.158067226409912\n",
            "Epoch: 44 | critic_loss: -0.22368499636650085 | generator_loss: -2.856712818145752\n",
            "Epoch: 45 | critic_loss: -0.14900052547454834 | generator_loss: -3.379275321960449\n",
            "Epoch: 46 | critic_loss: -0.5503851175308228 | generator_loss: -2.6675291061401367\n",
            "Epoch: 47 | critic_loss: -0.13495799899101257 | generator_loss: -3.2263376712799072\n",
            "Epoch: 48 | critic_loss: 0.3272966742515564 | generator_loss: -3.20044207572937\n",
            "Epoch: 49 | critic_loss: 0.4960169494152069 | generator_loss: -2.8723955154418945\n",
            "Epoch: 50 | critic_loss: -0.32630935311317444 | generator_loss: -4.029940128326416\n",
            "Epoch: 51 | critic_loss: -0.0008420795202255249 | generator_loss: -3.227172374725342\n",
            "Epoch: 52 | critic_loss: 0.22105324268341064 | generator_loss: -4.156589508056641\n",
            "Epoch: 53 | critic_loss: 0.35768499970436096 | generator_loss: -4.2731032371521\n",
            "Epoch: 54 | critic_loss: -0.13023605942726135 | generator_loss: -4.390398979187012\n",
            "Epoch: 55 | critic_loss: 0.25871533155441284 | generator_loss: -3.710102081298828\n",
            "Epoch: 56 | critic_loss: 0.05221287161111832 | generator_loss: -3.604910135269165\n",
            "Epoch: 57 | critic_loss: -0.28765764832496643 | generator_loss: -4.211462020874023\n",
            "Epoch: 58 | critic_loss: -0.6271274089813232 | generator_loss: -4.234777927398682\n",
            "Epoch: 59 | critic_loss: 0.045710667967796326 | generator_loss: -5.110817909240723\n",
            "Epoch: 60 | critic_loss: 0.2062787413597107 | generator_loss: -4.425265312194824\n",
            "Epoch: 61 | critic_loss: 0.3404284119606018 | generator_loss: -4.875551223754883\n",
            "Epoch: 62 | critic_loss: -0.12012379616498947 | generator_loss: -5.587316513061523\n",
            "Epoch: 63 | critic_loss: 0.5895943641662598 | generator_loss: -5.388266086578369\n",
            "Epoch: 64 | critic_loss: -0.017383918166160583 | generator_loss: -5.028387069702148\n",
            "Epoch: 65 | critic_loss: -0.45917394757270813 | generator_loss: -4.467235565185547\n",
            "Epoch: 66 | critic_loss: -0.2585476040840149 | generator_loss: -4.677060127258301\n",
            "Epoch: 67 | critic_loss: 0.4950672388076782 | generator_loss: -4.53975772857666\n",
            "Epoch: 68 | critic_loss: 0.21017521619796753 | generator_loss: -4.958069801330566\n",
            "Epoch: 69 | critic_loss: 1.0165328979492188 | generator_loss: -4.910180568695068\n",
            "Epoch: 70 | critic_loss: -0.24126996099948883 | generator_loss: -5.967627048492432\n",
            "Epoch: 71 | critic_loss: -0.4583967626094818 | generator_loss: -5.522442817687988\n",
            "Epoch: 72 | critic_loss: 0.7579282522201538 | generator_loss: -4.802824020385742\n",
            "Epoch: 73 | critic_loss: 0.19773724675178528 | generator_loss: -4.934908390045166\n",
            "Epoch: 74 | critic_loss: -0.21388724446296692 | generator_loss: -4.137820243835449\n",
            "Epoch: 75 | critic_loss: -0.5799820423126221 | generator_loss: -4.494304656982422\n",
            "Epoch: 76 | critic_loss: 0.5156786441802979 | generator_loss: -4.929914951324463\n",
            "Epoch: 77 | critic_loss: -0.3607919216156006 | generator_loss: -5.061436653137207\n",
            "Epoch: 78 | critic_loss: 0.8207917809486389 | generator_loss: -4.911292552947998\n",
            "Epoch: 79 | critic_loss: 0.4198831617832184 | generator_loss: -4.591874599456787\n",
            "Epoch: 80 | critic_loss: 0.6217493414878845 | generator_loss: -5.183719158172607\n",
            "Epoch: 81 | critic_loss: -0.12097825109958649 | generator_loss: -5.677122116088867\n",
            "Epoch: 82 | critic_loss: -0.46112915873527527 | generator_loss: -5.8093461990356445\n",
            "Epoch: 83 | critic_loss: 0.22052575647830963 | generator_loss: -5.6157402992248535\n",
            "Epoch: 84 | critic_loss: -0.026315219700336456 | generator_loss: -5.528631687164307\n",
            "Epoch: 85 | critic_loss: -0.7704163193702698 | generator_loss: -5.500320911407471\n",
            "Epoch: 86 | critic_loss: 0.16119864583015442 | generator_loss: -5.814857482910156\n",
            "Epoch: 87 | critic_loss: 0.11697898805141449 | generator_loss: -6.096222877502441\n",
            "Epoch: 88 | critic_loss: -0.037108540534973145 | generator_loss: -6.474695682525635\n",
            "Epoch: 89 | critic_loss: -0.45780226588249207 | generator_loss: -5.545506477355957\n",
            "Epoch: 90 | critic_loss: 0.3573741912841797 | generator_loss: -5.637370586395264\n",
            "Epoch: 91 | critic_loss: -0.1278979480266571 | generator_loss: -5.325221061706543\n",
            "Epoch: 92 | critic_loss: 1.131937861442566 | generator_loss: -5.777409076690674\n",
            "Epoch: 93 | critic_loss: 0.22721245884895325 | generator_loss: -5.0708770751953125\n",
            "Epoch: 94 | critic_loss: 0.15139129757881165 | generator_loss: -5.032597541809082\n",
            "Epoch: 95 | critic_loss: 0.5735297203063965 | generator_loss: -5.713502883911133\n",
            "Epoch: 96 | critic_loss: -0.45276111364364624 | generator_loss: -5.681578636169434\n",
            "Epoch: 97 | critic_loss: 0.35624614357948303 | generator_loss: -6.023134708404541\n",
            "Epoch: 98 | critic_loss: 0.6472886800765991 | generator_loss: -5.090346336364746\n",
            "Epoch: 99 | critic_loss: 0.5408990979194641 | generator_loss: -5.708043098449707\n",
            "Epoch: 100 | critic_loss: 0.008575290441513062 | generator_loss: -5.5328755378723145\n",
            "Epoch: 101 | critic_loss: -0.06713098287582397 | generator_loss: -5.966583728790283\n",
            "Epoch: 102 | critic_loss: 0.298747718334198 | generator_loss: -5.348731517791748\n",
            "Epoch: 103 | critic_loss: -0.4300314486026764 | generator_loss: -5.185266494750977\n",
            "Epoch: 104 | critic_loss: -0.6464849710464478 | generator_loss: -5.838722229003906\n",
            "Epoch: 105 | critic_loss: -0.1731642335653305 | generator_loss: -5.916412830352783\n",
            "Epoch: 106 | critic_loss: 0.9188144207000732 | generator_loss: -5.891778945922852\n",
            "Epoch: 107 | critic_loss: 0.9836962819099426 | generator_loss: -6.400372505187988\n",
            "Epoch: 108 | critic_loss: 0.008747905492782593 | generator_loss: -5.937262058258057\n",
            "Epoch: 109 | critic_loss: 0.38548457622528076 | generator_loss: -5.440833568572998\n",
            "Epoch: 110 | critic_loss: 0.6684268712997437 | generator_loss: -5.833968162536621\n",
            "Epoch: 111 | critic_loss: -0.5569024682044983 | generator_loss: -5.787492275238037\n",
            "Epoch: 112 | critic_loss: 0.1382889598608017 | generator_loss: -5.541244029998779\n",
            "Epoch: 113 | critic_loss: -0.6140681505203247 | generator_loss: -6.011815547943115\n",
            "Epoch: 114 | critic_loss: 0.3974262475967407 | generator_loss: -5.319090843200684\n",
            "Epoch: 115 | critic_loss: 0.5514426827430725 | generator_loss: -6.184922218322754\n",
            "Epoch: 116 | critic_loss: 0.4205454885959625 | generator_loss: -6.191434383392334\n",
            "Epoch: 117 | critic_loss: -0.2588924765586853 | generator_loss: -6.034447193145752\n",
            "Epoch: 118 | critic_loss: 0.0453338623046875 | generator_loss: -5.382667541503906\n",
            "Epoch: 119 | critic_loss: -0.6365235447883606 | generator_loss: -6.187897682189941\n",
            "Epoch: 120 | critic_loss: 0.29535186290740967 | generator_loss: -6.183169364929199\n",
            "Epoch: 121 | critic_loss: 0.3864547312259674 | generator_loss: -5.971492290496826\n",
            "Epoch: 122 | critic_loss: -0.6752984523773193 | generator_loss: -5.757838726043701\n",
            "Epoch: 123 | critic_loss: -0.14020520448684692 | generator_loss: -5.811553478240967\n",
            "Epoch: 124 | critic_loss: -0.01879274845123291 | generator_loss: -5.821558475494385\n",
            "Epoch: 125 | critic_loss: -0.5113350749015808 | generator_loss: -6.658342361450195\n",
            "Epoch: 126 | critic_loss: -0.39425647258758545 | generator_loss: -6.932703018188477\n",
            "Epoch: 127 | critic_loss: 0.27795642614364624 | generator_loss: -7.527259826660156\n",
            "Epoch: 128 | critic_loss: -0.5521970987319946 | generator_loss: -6.321316242218018\n",
            "Epoch: 129 | critic_loss: -0.22083458304405212 | generator_loss: -6.51581335067749\n",
            "Epoch: 130 | critic_loss: 0.3272477984428406 | generator_loss: -6.3328399658203125\n",
            "Epoch: 131 | critic_loss: -0.8886128664016724 | generator_loss: -6.393128871917725\n",
            "Epoch: 132 | critic_loss: 0.4381406605243683 | generator_loss: -6.508265972137451\n",
            "Epoch: 133 | critic_loss: -0.7630430459976196 | generator_loss: -6.066617965698242\n",
            "Epoch: 134 | critic_loss: 0.44967538118362427 | generator_loss: -6.001260757446289\n",
            "Epoch: 135 | critic_loss: 0.2025425136089325 | generator_loss: -6.770455837249756\n",
            "Epoch: 136 | critic_loss: -0.1739237904548645 | generator_loss: -6.591810703277588\n",
            "Epoch: 137 | critic_loss: 0.8643131256103516 | generator_loss: -6.038710117340088\n",
            "Epoch: 138 | critic_loss: 0.2114822417497635 | generator_loss: -7.307615280151367\n",
            "Epoch: 139 | critic_loss: 1.178056001663208 | generator_loss: -6.443530082702637\n",
            "Epoch: 140 | critic_loss: -0.1223478838801384 | generator_loss: -6.293618202209473\n",
            "Epoch: 141 | critic_loss: 1.2091227769851685 | generator_loss: -5.734838485717773\n",
            "Epoch: 142 | critic_loss: 0.5557438135147095 | generator_loss: -5.689724445343018\n",
            "Epoch: 143 | critic_loss: 0.390653520822525 | generator_loss: -6.210417747497559\n",
            "Epoch: 144 | critic_loss: 0.06281605362892151 | generator_loss: -4.88436222076416\n",
            "Epoch: 145 | critic_loss: -0.14974039793014526 | generator_loss: -5.5253472328186035\n",
            "Epoch: 146 | critic_loss: -0.28922998905181885 | generator_loss: -5.662787914276123\n",
            "Epoch: 147 | critic_loss: 0.0005231574177742004 | generator_loss: -6.362941741943359\n",
            "Epoch: 148 | critic_loss: 0.1439080536365509 | generator_loss: -6.529079437255859\n",
            "Epoch: 149 | critic_loss: -0.5386065244674683 | generator_loss: -5.703490257263184\n",
            "Epoch: 150 | critic_loss: -0.038661353290081024 | generator_loss: -5.6280517578125\n",
            "Epoch: 151 | critic_loss: 0.017287835478782654 | generator_loss: -5.171554088592529\n",
            "Epoch: 152 | critic_loss: 0.5072215795516968 | generator_loss: -5.302267074584961\n",
            "Epoch: 153 | critic_loss: -0.44607555866241455 | generator_loss: -6.167452812194824\n",
            "Epoch: 154 | critic_loss: 0.9302870631217957 | generator_loss: -5.34451961517334\n",
            "Epoch: 155 | critic_loss: -1.3302737474441528 | generator_loss: -5.789554595947266\n",
            "Epoch: 156 | critic_loss: 0.050832465291023254 | generator_loss: -5.310370445251465\n",
            "Epoch: 157 | critic_loss: 0.2122449278831482 | generator_loss: -5.285995960235596\n",
            "Epoch: 158 | critic_loss: 0.2741963565349579 | generator_loss: -4.829432487487793\n",
            "Epoch: 159 | critic_loss: 0.3294966518878937 | generator_loss: -4.644719123840332\n",
            "Epoch: 160 | critic_loss: -0.5743458867073059 | generator_loss: -4.63494873046875\n",
            "Epoch: 161 | critic_loss: 0.07508137077093124 | generator_loss: -5.552715301513672\n",
            "Epoch: 162 | critic_loss: 0.3840678930282593 | generator_loss: -4.865650653839111\n",
            "Epoch: 163 | critic_loss: -0.21319915354251862 | generator_loss: -5.322213649749756\n",
            "Epoch: 164 | critic_loss: 0.13343626260757446 | generator_loss: -4.225725173950195\n",
            "Epoch: 165 | critic_loss: -0.2246159017086029 | generator_loss: -5.052430629730225\n",
            "Epoch: 166 | critic_loss: 0.05883057415485382 | generator_loss: -4.559600830078125\n",
            "Epoch: 167 | critic_loss: 0.6485884785652161 | generator_loss: -5.013078212738037\n",
            "Epoch: 168 | critic_loss: -0.047048620879650116 | generator_loss: -5.4601898193359375\n",
            "Epoch: 169 | critic_loss: -0.42654216289520264 | generator_loss: -4.373615741729736\n",
            "Epoch: 170 | critic_loss: -0.7778146266937256 | generator_loss: -5.325180530548096\n",
            "Epoch: 171 | critic_loss: -0.1660730242729187 | generator_loss: -5.213237762451172\n",
            "Epoch: 172 | critic_loss: -0.13306757807731628 | generator_loss: -5.192793369293213\n",
            "Epoch: 173 | critic_loss: -0.21461071074008942 | generator_loss: -4.797714710235596\n",
            "Epoch: 174 | critic_loss: 0.2663482427597046 | generator_loss: -5.111303806304932\n",
            "Epoch: 175 | critic_loss: -0.3495229482650757 | generator_loss: -4.884737491607666\n",
            "Epoch: 176 | critic_loss: 0.21352265775203705 | generator_loss: -5.376209259033203\n",
            "Epoch: 177 | critic_loss: -0.8234394788742065 | generator_loss: -6.296060085296631\n",
            "Epoch: 178 | critic_loss: -0.34658733010292053 | generator_loss: -6.006413459777832\n",
            "Epoch: 179 | critic_loss: -0.3492506146430969 | generator_loss: -5.364780426025391\n",
            "Epoch: 180 | critic_loss: -0.21273134648799896 | generator_loss: -5.429180145263672\n",
            "Epoch: 181 | critic_loss: 0.3136063516139984 | generator_loss: -4.694393634796143\n",
            "Epoch: 182 | critic_loss: -0.8230099678039551 | generator_loss: -4.708926677703857\n",
            "Epoch: 183 | critic_loss: 0.5858353972434998 | generator_loss: -5.087728977203369\n",
            "Epoch: 184 | critic_loss: 0.6091222167015076 | generator_loss: -5.235135078430176\n",
            "Epoch: 185 | critic_loss: 0.5695080161094666 | generator_loss: -5.554040431976318\n",
            "Epoch: 186 | critic_loss: -0.34958428144454956 | generator_loss: -6.5678935050964355\n",
            "Epoch: 187 | critic_loss: -0.529416024684906 | generator_loss: -6.009516716003418\n",
            "Epoch: 188 | critic_loss: -0.9004371166229248 | generator_loss: -5.654827117919922\n",
            "Epoch: 189 | critic_loss: -0.49991220235824585 | generator_loss: -7.216315746307373\n",
            "Epoch: 190 | critic_loss: 0.1201668307185173 | generator_loss: -5.362587928771973\n",
            "Epoch: 191 | critic_loss: 0.8875082731246948 | generator_loss: -5.8198394775390625\n",
            "Epoch: 192 | critic_loss: -0.12187183648347855 | generator_loss: -5.638130187988281\n",
            "Epoch: 193 | critic_loss: 0.0891030877828598 | generator_loss: -6.308714389801025\n",
            "Epoch: 194 | critic_loss: 0.07123492658138275 | generator_loss: -5.0849528312683105\n",
            "Epoch: 195 | critic_loss: 0.2616312801837921 | generator_loss: -5.623704433441162\n",
            "Epoch: 196 | critic_loss: 0.8798621892929077 | generator_loss: -4.939486980438232\n",
            "Epoch: 197 | critic_loss: -0.20264607667922974 | generator_loss: -5.644735813140869\n",
            "Epoch: 198 | critic_loss: -0.20047084987163544 | generator_loss: -5.650947570800781\n",
            "Epoch: 199 | critic_loss: 0.5007056593894958 | generator_loss: -4.941306114196777\n",
            "Epoch: 200 | critic_loss: 0.10379302501678467 | generator_loss: -5.068198204040527\n",
            "Epoch: 201 | critic_loss: -0.03608185052871704 | generator_loss: -3.7095062732696533\n",
            "Epoch: 202 | critic_loss: -0.7741780281066895 | generator_loss: -4.305438041687012\n",
            "Epoch: 203 | critic_loss: -0.7464824318885803 | generator_loss: -5.250531196594238\n",
            "Epoch: 204 | critic_loss: 0.5706828236579895 | generator_loss: -4.938542366027832\n",
            "Epoch: 205 | critic_loss: 0.40010905265808105 | generator_loss: -5.431118011474609\n",
            "Epoch: 206 | critic_loss: 0.999652087688446 | generator_loss: -5.609769821166992\n",
            "Epoch: 207 | critic_loss: -1.2493987083435059 | generator_loss: -5.192897796630859\n",
            "Epoch: 208 | critic_loss: -0.3304709196090698 | generator_loss: -5.185330867767334\n",
            "Epoch: 209 | critic_loss: 0.8119823932647705 | generator_loss: -4.770950794219971\n",
            "Epoch: 210 | critic_loss: 0.02741510421037674 | generator_loss: -4.1977972984313965\n",
            "Epoch: 211 | critic_loss: 0.37990260124206543 | generator_loss: -4.886840343475342\n",
            "Epoch: 212 | critic_loss: -0.5049680471420288 | generator_loss: -3.85699200630188\n",
            "Epoch: 213 | critic_loss: 0.5379489660263062 | generator_loss: -4.851023197174072\n",
            "Epoch: 214 | critic_loss: -0.4839034974575043 | generator_loss: -5.4170403480529785\n",
            "Epoch: 215 | critic_loss: -0.19875836372375488 | generator_loss: -5.211108684539795\n",
            "Epoch: 216 | critic_loss: 0.18739847838878632 | generator_loss: -5.090041160583496\n",
            "Epoch: 217 | critic_loss: 0.2717602849006653 | generator_loss: -5.328091621398926\n",
            "Epoch: 218 | critic_loss: -0.4813215732574463 | generator_loss: -5.903627395629883\n",
            "Epoch: 219 | critic_loss: -0.37706345319747925 | generator_loss: -4.845232009887695\n",
            "Epoch: 220 | critic_loss: -1.1680351495742798 | generator_loss: -4.763367176055908\n",
            "Epoch: 221 | critic_loss: 0.19420112669467926 | generator_loss: -5.5233564376831055\n",
            "Epoch: 222 | critic_loss: -0.03398998826742172 | generator_loss: -5.892679214477539\n",
            "Epoch: 223 | critic_loss: 0.3596143424510956 | generator_loss: -5.265465259552002\n",
            "Epoch: 224 | critic_loss: 0.5169845819473267 | generator_loss: -5.774312973022461\n",
            "Epoch: 225 | critic_loss: -0.6013023853302002 | generator_loss: -5.667552947998047\n",
            "Epoch: 226 | critic_loss: 0.47960638999938965 | generator_loss: -5.150167465209961\n",
            "Epoch: 227 | critic_loss: 0.018244989216327667 | generator_loss: -4.814785480499268\n",
            "Epoch: 228 | critic_loss: -0.3764823377132416 | generator_loss: -4.393974304199219\n",
            "Epoch: 229 | critic_loss: 0.23703378438949585 | generator_loss: -5.26063346862793\n",
            "Epoch: 230 | critic_loss: -0.02030104398727417 | generator_loss: -5.48293924331665\n",
            "Epoch: 231 | critic_loss: 0.5632218718528748 | generator_loss: -5.297569274902344\n",
            "Epoch: 232 | critic_loss: 0.15055535733699799 | generator_loss: -5.2040581703186035\n",
            "Epoch: 233 | critic_loss: 0.19061514735221863 | generator_loss: -4.843980312347412\n",
            "Epoch: 234 | critic_loss: -0.23247107863426208 | generator_loss: -4.644880771636963\n",
            "Epoch: 235 | critic_loss: -1.338754653930664 | generator_loss: -4.4990105628967285\n",
            "Epoch: 236 | critic_loss: -1.0091387033462524 | generator_loss: -4.6484761238098145\n",
            "Epoch: 237 | critic_loss: -0.4168054461479187 | generator_loss: -4.621490001678467\n",
            "Epoch: 238 | critic_loss: -0.507498025894165 | generator_loss: -5.262499809265137\n",
            "Epoch: 239 | critic_loss: 0.0367056280374527 | generator_loss: -4.898238182067871\n",
            "Epoch: 240 | critic_loss: -0.5014839768409729 | generator_loss: -4.952428340911865\n",
            "Epoch: 241 | critic_loss: 0.2795921266078949 | generator_loss: -4.948709487915039\n",
            "Epoch: 242 | critic_loss: 1.1558984518051147 | generator_loss: -4.7008795738220215\n",
            "Epoch: 243 | critic_loss: 0.6623042225837708 | generator_loss: -4.941624641418457\n",
            "Epoch: 244 | critic_loss: 0.6897355914115906 | generator_loss: -4.8828582763671875\n",
            "Epoch: 245 | critic_loss: -0.14305442571640015 | generator_loss: -4.986804008483887\n",
            "Epoch: 246 | critic_loss: 0.8836297988891602 | generator_loss: -3.7828595638275146\n",
            "Epoch: 247 | critic_loss: -0.8376867771148682 | generator_loss: -4.727030277252197\n",
            "Epoch: 248 | critic_loss: 0.3626706898212433 | generator_loss: -4.152724742889404\n",
            "Epoch: 249 | critic_loss: 0.6189562082290649 | generator_loss: -4.166087627410889\n",
            "Epoch: 250 | critic_loss: -0.1508256494998932 | generator_loss: -5.147951602935791\n",
            "Epoch: 251 | critic_loss: -0.008044108748435974 | generator_loss: -5.172384738922119\n",
            "Epoch: 252 | critic_loss: -0.29382431507110596 | generator_loss: -4.57217264175415\n",
            "Epoch: 253 | critic_loss: 0.2592238783836365 | generator_loss: -4.101683139801025\n",
            "Epoch: 254 | critic_loss: -0.3896298110485077 | generator_loss: -3.6132724285125732\n",
            "Epoch: 255 | critic_loss: -0.3810896575450897 | generator_loss: -4.167424201965332\n",
            "Epoch: 256 | critic_loss: 0.024933040142059326 | generator_loss: -4.510365009307861\n",
            "Epoch: 257 | critic_loss: -0.6958342790603638 | generator_loss: -3.669767379760742\n",
            "Epoch: 258 | critic_loss: -0.346179336309433 | generator_loss: -3.379621744155884\n",
            "Epoch: 259 | critic_loss: -0.13362206518650055 | generator_loss: -3.0081305503845215\n",
            "Epoch: 260 | critic_loss: 0.5983912348747253 | generator_loss: -2.644400119781494\n",
            "Epoch: 261 | critic_loss: -1.0347514152526855 | generator_loss: -2.876467704772949\n",
            "Epoch: 262 | critic_loss: -0.3420180082321167 | generator_loss: -3.8856759071350098\n",
            "Epoch: 263 | critic_loss: 0.3527975082397461 | generator_loss: -3.399873733520508\n",
            "Epoch: 264 | critic_loss: -0.4535040557384491 | generator_loss: -3.367748498916626\n",
            "Epoch: 265 | critic_loss: -0.07927000522613525 | generator_loss: -2.9813051223754883\n",
            "Epoch: 266 | critic_loss: 0.22501255571842194 | generator_loss: -2.511115074157715\n",
            "Epoch: 267 | critic_loss: -0.20521526038646698 | generator_loss: -3.064781665802002\n",
            "Epoch: 268 | critic_loss: -0.19312138855457306 | generator_loss: -2.2115583419799805\n",
            "Epoch: 269 | critic_loss: -0.597293496131897 | generator_loss: -2.3549187183380127\n",
            "Epoch: 270 | critic_loss: -0.9301244020462036 | generator_loss: -2.5856475830078125\n",
            "Epoch: 271 | critic_loss: -0.859015703201294 | generator_loss: -2.4956958293914795\n",
            "Epoch: 272 | critic_loss: -0.9766121506690979 | generator_loss: -1.9890245199203491\n",
            "Epoch: 273 | critic_loss: -0.7053950428962708 | generator_loss: -2.0470921993255615\n",
            "Epoch: 274 | critic_loss: 0.5180957317352295 | generator_loss: -3.1642520427703857\n",
            "Epoch: 275 | critic_loss: 0.11708047986030579 | generator_loss: -3.442553758621216\n",
            "Epoch: 276 | critic_loss: 0.25172191858291626 | generator_loss: -3.225713014602661\n",
            "Epoch: 277 | critic_loss: 0.36708518862724304 | generator_loss: -3.654334545135498\n",
            "Epoch: 278 | critic_loss: 0.1500542014837265 | generator_loss: -2.9854354858398438\n",
            "Epoch: 279 | critic_loss: -1.6771773099899292 | generator_loss: -3.032400131225586\n",
            "Epoch: 280 | critic_loss: 0.9682374000549316 | generator_loss: -4.267412185668945\n",
            "Epoch: 281 | critic_loss: -0.7862848043441772 | generator_loss: -2.7991607189178467\n",
            "Epoch: 282 | critic_loss: -0.615805447101593 | generator_loss: -3.6107962131500244\n",
            "Epoch: 283 | critic_loss: 0.06442523002624512 | generator_loss: -3.093508005142212\n",
            "Epoch: 284 | critic_loss: 0.18411311507225037 | generator_loss: -3.9275386333465576\n",
            "Epoch: 285 | critic_loss: 0.1321139931678772 | generator_loss: -2.9866819381713867\n",
            "Epoch: 286 | critic_loss: -0.17516553401947021 | generator_loss: -2.5503737926483154\n",
            "Epoch: 287 | critic_loss: -0.11875486373901367 | generator_loss: -3.0782535076141357\n",
            "Epoch: 288 | critic_loss: -1.0564664602279663 | generator_loss: -3.419501543045044\n",
            "Epoch: 289 | critic_loss: 0.1813124716281891 | generator_loss: -3.823035717010498\n",
            "Epoch: 290 | critic_loss: -1.378197193145752 | generator_loss: -3.293335437774658\n",
            "Epoch: 291 | critic_loss: 0.35963982343673706 | generator_loss: -3.277690887451172\n",
            "Epoch: 292 | critic_loss: -0.22582626342773438 | generator_loss: -3.1894545555114746\n",
            "Epoch: 293 | critic_loss: -0.3823663592338562 | generator_loss: -2.8543860912323\n",
            "Epoch: 294 | critic_loss: -0.02162301540374756 | generator_loss: -3.9081597328186035\n",
            "Epoch: 295 | critic_loss: 0.10283316671848297 | generator_loss: -5.8151092529296875\n",
            "Epoch: 296 | critic_loss: -0.05266685038805008 | generator_loss: -5.158679962158203\n",
            "Epoch: 297 | critic_loss: -0.022128485143184662 | generator_loss: -5.505135536193848\n",
            "Epoch: 298 | critic_loss: -0.6690869927406311 | generator_loss: -5.777931213378906\n",
            "Epoch: 299 | critic_loss: -0.12130260467529297 | generator_loss: -4.3253936767578125\n",
            "Epoch: 300 | critic_loss: -0.17860597372055054 | generator_loss: -4.4807024002075195\n",
            "Epoch: 301 | critic_loss: -1.356099247932434 | generator_loss: -4.700596809387207\n",
            "Epoch: 302 | critic_loss: 0.6072695255279541 | generator_loss: -4.094589710235596\n",
            "Epoch: 303 | critic_loss: -0.12059685587882996 | generator_loss: -4.539767265319824\n",
            "Epoch: 304 | critic_loss: -0.30484631657600403 | generator_loss: -4.902549743652344\n",
            "Epoch: 305 | critic_loss: -0.389846533536911 | generator_loss: -4.710964202880859\n",
            "Epoch: 306 | critic_loss: 0.2491098791360855 | generator_loss: -5.851588726043701\n",
            "Epoch: 307 | critic_loss: 0.288852721452713 | generator_loss: -6.068000793457031\n",
            "Epoch: 308 | critic_loss: 0.6432528495788574 | generator_loss: -5.2850751876831055\n",
            "Epoch: 309 | critic_loss: -1.3846781253814697 | generator_loss: -4.700832366943359\n",
            "Epoch: 310 | critic_loss: -0.5413593053817749 | generator_loss: -4.22877311706543\n",
            "Epoch: 311 | critic_loss: 0.7364002466201782 | generator_loss: -3.9181759357452393\n",
            "Epoch: 312 | critic_loss: 0.6000202298164368 | generator_loss: -4.840953826904297\n",
            "Epoch: 313 | critic_loss: -1.0669214725494385 | generator_loss: -5.297903537750244\n",
            "Epoch: 314 | critic_loss: -1.1067637205123901 | generator_loss: -5.071353912353516\n",
            "Epoch: 315 | critic_loss: -1.0213035345077515 | generator_loss: -5.437387466430664\n",
            "Epoch: 316 | critic_loss: -1.2337836027145386 | generator_loss: -5.171378135681152\n",
            "Epoch: 317 | critic_loss: -0.3830892741680145 | generator_loss: -4.7872443199157715\n",
            "Epoch: 318 | critic_loss: 0.9410356879234314 | generator_loss: -3.5317234992980957\n",
            "Epoch: 319 | critic_loss: -0.7918581366539001 | generator_loss: -3.801137924194336\n",
            "Epoch: 320 | critic_loss: -0.5156526565551758 | generator_loss: -4.036355972290039\n",
            "Epoch: 321 | critic_loss: -0.623204231262207 | generator_loss: -3.532254457473755\n",
            "Epoch: 322 | critic_loss: 0.040474049746990204 | generator_loss: -5.006095886230469\n",
            "Epoch: 323 | critic_loss: 0.29399555921554565 | generator_loss: -5.696988582611084\n",
            "Epoch: 324 | critic_loss: 0.12024544924497604 | generator_loss: -5.340600490570068\n",
            "Epoch: 325 | critic_loss: -0.7000247240066528 | generator_loss: -5.537777423858643\n",
            "Epoch: 326 | critic_loss: 0.8216851353645325 | generator_loss: -5.760676383972168\n",
            "Epoch: 327 | critic_loss: 0.2311815619468689 | generator_loss: -5.597992897033691\n",
            "Epoch: 328 | critic_loss: -0.23126773536205292 | generator_loss: -3.1757187843322754\n",
            "Epoch: 329 | critic_loss: 0.3680984079837799 | generator_loss: -3.9344866275787354\n",
            "Epoch: 330 | critic_loss: -0.7704010605812073 | generator_loss: -4.9432549476623535\n",
            "Epoch: 331 | critic_loss: 1.1270984411239624 | generator_loss: -4.4380083084106445\n",
            "Epoch: 332 | critic_loss: -0.08534383028745651 | generator_loss: -6.619709014892578\n",
            "Epoch: 333 | critic_loss: 0.20666798949241638 | generator_loss: -6.618884086608887\n",
            "Epoch: 334 | critic_loss: 0.8266040682792664 | generator_loss: -6.512918472290039\n",
            "Epoch: 335 | critic_loss: 0.061681054532527924 | generator_loss: -5.968554496765137\n",
            "Epoch: 336 | critic_loss: 0.007678866386413574 | generator_loss: -5.851250648498535\n",
            "Epoch: 337 | critic_loss: 0.30047935247421265 | generator_loss: -5.734272003173828\n",
            "Epoch: 338 | critic_loss: 0.486596018075943 | generator_loss: -6.864889621734619\n",
            "Epoch: 339 | critic_loss: -0.0279746875166893 | generator_loss: -6.0821757316589355\n",
            "Epoch: 340 | critic_loss: -0.8024923801422119 | generator_loss: -5.759736061096191\n",
            "Epoch: 341 | critic_loss: -0.5618360638618469 | generator_loss: -6.531078815460205\n",
            "Epoch: 342 | critic_loss: -0.027028769254684448 | generator_loss: -6.1755499839782715\n",
            "Epoch: 343 | critic_loss: 0.12503179907798767 | generator_loss: -6.829146385192871\n",
            "Epoch: 344 | critic_loss: -0.2903441786766052 | generator_loss: -6.373110294342041\n",
            "Epoch: 345 | critic_loss: 0.8549425005912781 | generator_loss: -6.036323547363281\n",
            "Epoch: 346 | critic_loss: 0.6959467530250549 | generator_loss: -6.154208183288574\n",
            "Epoch: 347 | critic_loss: 1.1539748907089233 | generator_loss: -6.13949728012085\n",
            "Epoch: 348 | critic_loss: -0.11003141850233078 | generator_loss: -6.437622547149658\n",
            "Epoch: 349 | critic_loss: 0.3970322012901306 | generator_loss: -6.177404880523682\n",
            "Epoch: 350 | critic_loss: -0.15602180361747742 | generator_loss: -5.928135395050049\n",
            "Epoch: 351 | critic_loss: 0.2264920026063919 | generator_loss: -4.985611438751221\n",
            "Epoch: 352 | critic_loss: -0.8391129970550537 | generator_loss: -5.421091556549072\n",
            "Epoch: 353 | critic_loss: 0.03630457818508148 | generator_loss: -6.484175682067871\n",
            "Epoch: 354 | critic_loss: -0.12106390297412872 | generator_loss: -7.186819076538086\n",
            "Epoch: 355 | critic_loss: -0.7908387780189514 | generator_loss: -7.002296447753906\n",
            "Epoch: 356 | critic_loss: 0.14413748681545258 | generator_loss: -6.579446792602539\n",
            "Epoch: 357 | critic_loss: -0.31425321102142334 | generator_loss: -7.230757236480713\n",
            "Epoch: 358 | critic_loss: 0.02137812227010727 | generator_loss: -6.178218364715576\n",
            "Epoch: 359 | critic_loss: 0.8822657465934753 | generator_loss: -5.772315979003906\n",
            "Epoch: 360 | critic_loss: 0.6736075282096863 | generator_loss: -5.525084972381592\n",
            "Epoch: 361 | critic_loss: -0.0012909919023513794 | generator_loss: -4.314136981964111\n",
            "Epoch: 362 | critic_loss: 0.20600789785385132 | generator_loss: -3.9963786602020264\n",
            "Epoch: 363 | critic_loss: 0.3587726354598999 | generator_loss: -4.849908351898193\n",
            "Epoch: 364 | critic_loss: -0.0045786574482917786 | generator_loss: -4.556769847869873\n",
            "Epoch: 365 | critic_loss: -0.05127066373825073 | generator_loss: -6.348490238189697\n",
            "Epoch: 366 | critic_loss: 0.03808093070983887 | generator_loss: -6.35535192489624\n",
            "Epoch: 367 | critic_loss: 0.2955530881881714 | generator_loss: -6.173844337463379\n",
            "Epoch: 368 | critic_loss: 0.31113213300704956 | generator_loss: -6.309666156768799\n",
            "Epoch: 369 | critic_loss: 1.0819697380065918 | generator_loss: -5.936217784881592\n",
            "Epoch: 370 | critic_loss: -0.22961123287677765 | generator_loss: -5.613518238067627\n",
            "Epoch: 371 | critic_loss: -0.1064402312040329 | generator_loss: -5.738527774810791\n",
            "Epoch: 372 | critic_loss: 0.06205660104751587 | generator_loss: -5.378449440002441\n",
            "Epoch: 373 | critic_loss: 0.003880545496940613 | generator_loss: -4.895662784576416\n",
            "Epoch: 374 | critic_loss: 0.9205242991447449 | generator_loss: -6.066076755523682\n",
            "Epoch: 375 | critic_loss: 0.06796370446681976 | generator_loss: -5.884366989135742\n",
            "Epoch: 376 | critic_loss: -0.008076757192611694 | generator_loss: -5.394670009613037\n",
            "Epoch: 377 | critic_loss: -0.5611521005630493 | generator_loss: -6.103564262390137\n",
            "Epoch: 378 | critic_loss: -0.8461334705352783 | generator_loss: -5.968029022216797\n",
            "Epoch: 379 | critic_loss: 0.24812829494476318 | generator_loss: -7.13092041015625\n",
            "Epoch: 380 | critic_loss: 0.7343307733535767 | generator_loss: -7.228285789489746\n",
            "Epoch: 381 | critic_loss: 0.40487343072891235 | generator_loss: -7.193110942840576\n",
            "Epoch: 382 | critic_loss: 0.1705116182565689 | generator_loss: -7.098227500915527\n",
            "Epoch: 383 | critic_loss: -0.2353942096233368 | generator_loss: -5.72812557220459\n",
            "Epoch: 384 | critic_loss: 0.7700364589691162 | generator_loss: -5.90641975402832\n",
            "Epoch: 385 | critic_loss: 0.46363741159439087 | generator_loss: -5.72342586517334\n",
            "Epoch: 386 | critic_loss: 0.36791908740997314 | generator_loss: -5.265372276306152\n",
            "Epoch: 387 | critic_loss: -0.4233871102333069 | generator_loss: -6.140744209289551\n",
            "Epoch: 388 | critic_loss: -1.0647130012512207 | generator_loss: -7.044634819030762\n",
            "Epoch: 389 | critic_loss: -0.7780159115791321 | generator_loss: -6.8333845138549805\n",
            "Epoch: 390 | critic_loss: 0.6341711282730103 | generator_loss: -6.640328884124756\n",
            "Epoch: 391 | critic_loss: -0.23391523957252502 | generator_loss: -5.82015323638916\n",
            "Epoch: 392 | critic_loss: 0.08007217198610306 | generator_loss: -5.180760383605957\n",
            "Epoch: 393 | critic_loss: -0.18531356751918793 | generator_loss: -5.135129451751709\n",
            "Epoch: 394 | critic_loss: 1.1669538021087646 | generator_loss: -5.249267101287842\n",
            "Epoch: 395 | critic_loss: -0.5381233096122742 | generator_loss: -4.469226360321045\n",
            "Epoch: 396 | critic_loss: 1.3162641525268555 | generator_loss: -5.766212463378906\n",
            "Epoch: 397 | critic_loss: 0.35718363523483276 | generator_loss: -6.193295001983643\n",
            "Epoch: 398 | critic_loss: -0.8145899772644043 | generator_loss: -7.226076126098633\n",
            "Epoch: 399 | critic_loss: 0.23448985815048218 | generator_loss: -6.31332540512085\n",
            "Epoch: 400 | critic_loss: -0.9227601885795593 | generator_loss: -7.878791332244873\n",
            "Epoch: 401 | critic_loss: -0.02518784999847412 | generator_loss: -6.860374450683594\n",
            "Epoch: 402 | critic_loss: 0.7658347487449646 | generator_loss: -6.304818630218506\n",
            "Epoch: 403 | critic_loss: -0.5608800053596497 | generator_loss: -6.796876907348633\n",
            "Epoch: 404 | critic_loss: -0.032390862703323364 | generator_loss: -6.247073173522949\n",
            "Epoch: 405 | critic_loss: 0.5357581973075867 | generator_loss: -6.118956089019775\n",
            "Epoch: 406 | critic_loss: 0.43793678283691406 | generator_loss: -6.595716953277588\n",
            "Epoch: 407 | critic_loss: 0.7803489565849304 | generator_loss: -7.720642566680908\n",
            "Epoch: 408 | critic_loss: 0.4178123474121094 | generator_loss: -7.012491226196289\n",
            "Epoch: 409 | critic_loss: -0.8732156753540039 | generator_loss: -7.323370933532715\n",
            "Epoch: 410 | critic_loss: -0.7832017540931702 | generator_loss: -8.323583602905273\n",
            "Epoch: 411 | critic_loss: 0.9685870409011841 | generator_loss: -7.181135177612305\n",
            "Epoch: 412 | critic_loss: 1.0852081775665283 | generator_loss: -8.476895332336426\n",
            "Epoch: 413 | critic_loss: 1.160338044166565 | generator_loss: -7.646165370941162\n",
            "Epoch: 414 | critic_loss: 1.5525132417678833 | generator_loss: -7.483739852905273\n",
            "Epoch: 415 | critic_loss: -0.3058878779411316 | generator_loss: -7.601428031921387\n",
            "Epoch: 416 | critic_loss: -0.14622800052165985 | generator_loss: -6.312496185302734\n",
            "Epoch: 417 | critic_loss: -0.17616984248161316 | generator_loss: -6.402270317077637\n",
            "Epoch: 418 | critic_loss: 0.10254954546689987 | generator_loss: -6.739494800567627\n",
            "Epoch: 419 | critic_loss: -0.6802513003349304 | generator_loss: -6.710940361022949\n",
            "Epoch: 420 | critic_loss: -0.5420792698860168 | generator_loss: -7.264379978179932\n",
            "Epoch: 421 | critic_loss: 0.6272096037864685 | generator_loss: -8.863762855529785\n",
            "Epoch: 422 | critic_loss: 0.6206169128417969 | generator_loss: -9.145458221435547\n",
            "Epoch: 423 | critic_loss: 0.2788037061691284 | generator_loss: -8.305195808410645\n",
            "Epoch: 424 | critic_loss: -1.5337462425231934 | generator_loss: -8.666644096374512\n",
            "Epoch: 425 | critic_loss: 0.8455054759979248 | generator_loss: -8.57158374786377\n",
            "Epoch: 426 | critic_loss: -0.1640763282775879 | generator_loss: -6.76083517074585\n",
            "Epoch: 427 | critic_loss: -0.20075982809066772 | generator_loss: -6.877843856811523\n",
            "Epoch: 428 | critic_loss: 0.18554529547691345 | generator_loss: -6.62163782119751\n",
            "Epoch: 429 | critic_loss: -0.5255113244056702 | generator_loss: -7.466821193695068\n",
            "Epoch: 430 | critic_loss: 0.006146609783172607 | generator_loss: -6.73154878616333\n",
            "Epoch: 431 | critic_loss: -1.5344517230987549 | generator_loss: -7.240983486175537\n",
            "Epoch: 432 | critic_loss: -1.223205804824829 | generator_loss: -7.366433620452881\n",
            "Epoch: 433 | critic_loss: -0.24474847316741943 | generator_loss: -8.610093116760254\n",
            "Epoch: 434 | critic_loss: 0.18700937926769257 | generator_loss: -6.234108924865723\n",
            "Epoch: 435 | critic_loss: 0.2714710235595703 | generator_loss: -5.703126430511475\n",
            "Epoch: 436 | critic_loss: -2.4097728729248047 | generator_loss: -5.752543926239014\n",
            "Epoch: 437 | critic_loss: 0.360309362411499 | generator_loss: -7.304408073425293\n",
            "Epoch: 438 | critic_loss: 1.3194835186004639 | generator_loss: -6.24183988571167\n",
            "Epoch: 439 | critic_loss: 0.22583720088005066 | generator_loss: -7.242651462554932\n",
            "Epoch: 440 | critic_loss: -0.5047192573547363 | generator_loss: -5.153041362762451\n",
            "Epoch: 441 | critic_loss: 0.42130711674690247 | generator_loss: -6.73296594619751\n",
            "Epoch: 442 | critic_loss: 0.046512044966220856 | generator_loss: -6.155184745788574\n",
            "Epoch: 443 | critic_loss: -1.3684741258621216 | generator_loss: -6.198345184326172\n",
            "Epoch: 444 | critic_loss: 0.4226572513580322 | generator_loss: -6.000787734985352\n",
            "Epoch: 445 | critic_loss: 0.4750562012195587 | generator_loss: -6.840133190155029\n",
            "Epoch: 446 | critic_loss: 0.9646621346473694 | generator_loss: -5.604359149932861\n",
            "Epoch: 447 | critic_loss: 1.298508882522583 | generator_loss: -5.413057804107666\n",
            "Epoch: 448 | critic_loss: -0.8138906955718994 | generator_loss: -5.031571388244629\n",
            "Epoch: 449 | critic_loss: -0.9859545230865479 | generator_loss: -5.860870361328125\n",
            "Epoch: 450 | critic_loss: 0.16020703315734863 | generator_loss: -6.324307918548584\n",
            "Epoch: 451 | critic_loss: 0.7706374526023865 | generator_loss: -4.264256954193115\n",
            "Epoch: 452 | critic_loss: 0.19097688794136047 | generator_loss: -5.516955852508545\n",
            "Epoch: 453 | critic_loss: -0.7629468441009521 | generator_loss: -6.328035831451416\n",
            "Epoch: 454 | critic_loss: -0.7532550096511841 | generator_loss: -6.177657604217529\n",
            "Epoch: 455 | critic_loss: 0.08135166019201279 | generator_loss: -6.118070125579834\n",
            "Epoch: 456 | critic_loss: 0.027935102581977844 | generator_loss: -6.4843268394470215\n",
            "Epoch: 457 | critic_loss: 1.1168296337127686 | generator_loss: -5.663856506347656\n",
            "Epoch: 458 | critic_loss: 0.2860042452812195 | generator_loss: -5.401020050048828\n",
            "Epoch: 459 | critic_loss: -1.669472098350525 | generator_loss: -3.154082775115967\n",
            "Epoch: 460 | critic_loss: 1.3203178644180298 | generator_loss: -3.9993555545806885\n",
            "Epoch: 461 | critic_loss: 2.0309653282165527 | generator_loss: -4.823570251464844\n",
            "Epoch: 462 | critic_loss: -0.03713355213403702 | generator_loss: -3.962480068206787\n",
            "Epoch: 463 | critic_loss: 0.37761378288269043 | generator_loss: -4.301751613616943\n",
            "Epoch: 464 | critic_loss: 0.21197004616260529 | generator_loss: -5.876306533813477\n",
            "Epoch: 465 | critic_loss: -0.4716614782810211 | generator_loss: -6.087277889251709\n",
            "Epoch: 466 | critic_loss: -0.23817075788974762 | generator_loss: -5.753795146942139\n",
            "Epoch: 467 | critic_loss: -0.8584722280502319 | generator_loss: -4.667571067810059\n",
            "Epoch: 468 | critic_loss: 1.2830684185028076 | generator_loss: -5.998966217041016\n",
            "Epoch: 469 | critic_loss: 0.039865270256996155 | generator_loss: -5.018599510192871\n",
            "Epoch: 470 | critic_loss: -1.297579288482666 | generator_loss: -6.061817169189453\n",
            "Epoch: 471 | critic_loss: -1.1707334518432617 | generator_loss: -2.549285411834717\n",
            "Epoch: 472 | critic_loss: -0.14573244750499725 | generator_loss: -4.318474292755127\n",
            "Epoch: 473 | critic_loss: 0.8862306475639343 | generator_loss: -2.8311517238616943\n",
            "Epoch: 474 | critic_loss: -0.0525638684630394 | generator_loss: -2.8744473457336426\n",
            "Epoch: 475 | critic_loss: -0.48351579904556274 | generator_loss: -3.8285036087036133\n",
            "Epoch: 476 | critic_loss: -0.4500196576118469 | generator_loss: -3.3819403648376465\n",
            "Epoch: 477 | critic_loss: -0.2260909229516983 | generator_loss: -3.454634428024292\n",
            "Epoch: 478 | critic_loss: -1.820367693901062 | generator_loss: -4.811401844024658\n",
            "Epoch: 479 | critic_loss: 0.9372078776359558 | generator_loss: -3.516597270965576\n",
            "Epoch: 480 | critic_loss: 1.468894600868225 | generator_loss: -4.67388391494751\n",
            "Epoch: 481 | critic_loss: -2.025287628173828 | generator_loss: -6.313342094421387\n",
            "Epoch: 482 | critic_loss: -1.6122212409973145 | generator_loss: -4.853705883026123\n",
            "Epoch: 483 | critic_loss: -1.398009181022644 | generator_loss: -4.493875026702881\n",
            "Epoch: 484 | critic_loss: 0.6182258129119873 | generator_loss: -4.26747465133667\n",
            "Epoch: 485 | critic_loss: 0.4272698163986206 | generator_loss: -3.8543295860290527\n",
            "Epoch: 486 | critic_loss: 0.7742036581039429 | generator_loss: -5.090564250946045\n",
            "Epoch: 487 | critic_loss: 1.26645827293396 | generator_loss: -4.176551818847656\n",
            "Epoch: 488 | critic_loss: -0.07471946626901627 | generator_loss: -3.293835401535034\n",
            "Epoch: 489 | critic_loss: -0.3942153751850128 | generator_loss: -4.826312065124512\n",
            "Epoch: 490 | critic_loss: 1.0836360454559326 | generator_loss: -5.826642990112305\n",
            "Epoch: 491 | critic_loss: -1.0781643390655518 | generator_loss: -6.650356769561768\n",
            "Epoch: 492 | critic_loss: -0.907957911491394 | generator_loss: -4.077978134155273\n",
            "Epoch: 493 | critic_loss: -0.633887767791748 | generator_loss: -2.128124952316284\n",
            "Epoch: 494 | critic_loss: -0.5940224528312683 | generator_loss: -4.694129943847656\n",
            "Epoch: 495 | critic_loss: -1.4494783878326416 | generator_loss: -2.7374119758605957\n",
            "Epoch: 496 | critic_loss: 1.7312610149383545 | generator_loss: -2.7056474685668945\n",
            "Epoch: 497 | critic_loss: -0.4109441041946411 | generator_loss: -3.5611774921417236\n",
            "Epoch: 498 | critic_loss: -0.9414509534835815 | generator_loss: -3.7874882221221924\n",
            "Epoch: 499 | critic_loss: -0.5571786761283875 | generator_loss: -3.6257081031799316\n",
            "Epoch: 500 | critic_loss: 0.5623244047164917 | generator_loss: -2.7965214252471924\n"
          ]
        }
      ],
      "source": [
        "\n",
        "#define parameters:\n",
        "batch_size = 500 ## how many records to adjust the model's training at each step\n",
        "epochs = 501 #number of training iterations\n",
        "learning_rate  = 2e-4# determines how much the weights of the model are updated in response to\n",
        "## estimated error\n",
        "## beta_1 and beta_2 are regularization parameters\n",
        "\n",
        "## CTGAN (Conditional Tabular GAN) = conditional tabular GAN\n",
        "\n",
        "## off-the-shelf params from their quickstart guide\n",
        "## for making adult census income data:\n",
        "\n",
        "ctgan_args = ModelParameters(batch_size=batch_size,\n",
        "                             lr=learning_rate,\n",
        "                             betas=(0.5, 0.9))\n",
        "train_args = TrainParameters(epochs=epochs)\n",
        "\n",
        "## Train the model:\n",
        "\n",
        "synth = RegularSynthesizer(modelname='ctgan',\n",
        "                           model_parameters=ctgan_args)\n",
        "\n",
        "synth.fit(data = ebt,\n",
        "          train_arguments=train_args,\n",
        "          cat_cols = cat_cols,\n",
        "          num_cols = num_cols)\n",
        "# Fit to dataset:\n"
      ]
    },
    {
      "cell_type": "code",
      "execution_count": 13,
      "metadata": {
        "id": "FFxaoBs_oU8p"
      },
      "outputs": [],
      "source": []
    },
    {
      "cell_type": "markdown",
      "metadata": {
        "id": "jiPIrAKUoYMT"
      },
      "source": [
        "Generate synthetic samples:"
      ]
    },
    {
      "cell_type": "code",
      "execution_count": 14,
      "metadata": {
        "id": "N4083g6Aocmj"
      },
      "outputs": [],
      "source": [
        "eb_synth = synth.sample(3000)"
      ]
    },
    {
      "cell_type": "markdown",
      "metadata": {
        "id": "Pe9NovojI44D"
      },
      "source": [
        "Save the data:"
      ]
    },
    {
      "cell_type": "code",
      "execution_count": 15,
      "metadata": {
        "id": "Ef-r9Le_I8OH"
      },
      "outputs": [],
      "source": [
        "\n",
        "eb_synth.to_csv(data_path + 'synth_test.csv')"
      ]
    },
    {
      "cell_type": "code",
      "execution_count": 17,
      "metadata": {
        "id": "oRDFBHWQrNEV",
        "colab": {
          "base_uri": "https://localhost:8080/"
        },
        "outputId": "7a16393a-e65e-4c86-8be4-3cb36a3c4c9a"
      },
      "outputs": [
        {
          "output_type": "stream",
          "name": "stdout",
          "text": [
            "['d73_4', 'qa10_3', 'qd5_14', 'qa4a_5', 'qa2a_4', 'polintr_4', 'qa2a_5', 'd40b', 'qa6b_3', 'd15a', 'qa13_2', 'qa4a_4', 'd40a_r', 'd40abc_r3', 'qa4a_9', 'qa4a_13', 'qa6a_1', 'qa6a_2', 'qa2a_6', 'd70', 'qa3a_11', 'qa16', 'sd22_1', 'd8', 'd40b_r', 'qa19', 'd62_4', 'polintr_1', 'qd5_6', 'qa6b_1', 'd62_2', 'netuse', 'd63', 'qa3a_17', 'qa6a_5', 'qc1a_4', 'd8r2', 'd1r2', 'd78', 'd9r', 'd1', 'qd5_15', 'd40c', 'd40abc_r1', 'sd22t7', 'd40abc_r4', 'qa4a_12', 'qa4a_17', 'd71_2', 'qc1a_1', 'qa1a_4', 'qa18_5', 'qa4a_18', 'qc1a_3', 'd11r1', 'qa17', 'qd5_2', 'd62_1', 'sd22t3', 'qa3a_4', 'd71_1', 'qa4a_15', 'd9', 'd40abc_r2', 'qd5_1', 'qd1', 'qa2a_1', 'qd8_3', 'qa14', 'qa4a_1', 'sd22t8', 'qa1a_5', 'qa10_2', 'qa3a_3', 'qa4a_19', 'qa3a_10', 'd10', 'qa7_1', 'qa3a_2', 'qa3a_5', 'qd5_16', 'qa3a_8', 'qa3a_14', 'd73_2', 'd40c_r', 'd8r1', 'qd5_12', 'd1r1', 'sd22t6', 'qd5_9', 'd73_1', 'qa4a_16', 'd62_3', 'qa3a_16', 'qa13_1', 'qd5_10', 'qa8_1', 'qa6a_3', 'qa6b_10', 'qd5_8', 'qa6at', 'qa2a_3', 'qa1a_6', 'qa3a_15', 'qa4a_6', 'd71_3', 'sd22t2', 'qa1a_2', 'qc1a_2', 'd15a_r1', 'qd5_13', 'qa18_3', 'qd8_4', 'qd8_1', 'qa3a_18', 'qa3a_9', 'd40a', 'qa6b_8', 'polintr_3', 'qa3a_13', 'd7', 'qa4a_11', 'd60', 'sd22t4', 'qd5_7', 'qa3a_6', 'qd2', 'qa4a_3', 'polintr_2', 'qa2a_2', 'qa4a_14', 'qa2a_7', 'qa1a_3', 'qa10_1', 'qd5_5', 'd25', 'sd22t5', 'qa3a_1', 'qd5t', 'qd8_2', 'qa1a_1', 'd11', 'sd22_2', 'qd5_11', 'qa3a_12', 'qa8_2', 'qd5_4', 'sd22t1', 'd11r2', 'd7r', 'd15a_r2', 'qa18_1', 'uniqid', 'qd5_3', 'd62t', 'qa18_2', 'd73_3', 'qa6a_4', 'qa4a_7', 'sd18a', 'qa4a_10', 'qa7_2', 'qa1a_7', 'qa4a_2', 'class', 'polorient', 'mediatrust', 'trustnom', 'trustallm', 'trustwebonly', 'trusttradm']\n"
          ]
        }
      ],
      "source": [
        "print(list(eb_synth.columns))"
      ]
    },
    {
      "cell_type": "code",
      "execution_count": null,
      "metadata": {
        "id": "r18w-9x-qlOS"
      },
      "outputs": [],
      "source": []
    }
  ],
  "metadata": {
    "colab": {
      "provenance": [],
      "toc_visible": true,
      "gpuType": "L4",
      "authorship_tag": "ABX9TyOkNRcvghzVjAYKROisWZcj",
      "include_colab_link": true
    },
    "kernelspec": {
      "display_name": "Python 3",
      "name": "python3"
    },
    "language_info": {
      "name": "python"
    },
    "accelerator": "GPU"
  },
  "nbformat": 4,
  "nbformat_minor": 0
}