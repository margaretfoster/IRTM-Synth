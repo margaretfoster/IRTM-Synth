{
 "cells": [
  {
   "cell_type": "markdown",
   "id": "078dc051-4d86-4178-9ba5-9556e2fb6757",
   "metadata": {},
   "source": [
    "This script to prepare the data for testing out the synthethic data"
   ]
  },
  {
   "cell_type": "code",
   "execution_count": 1,
   "id": "a9ac8110-6a60-47b2-8cf3-0cdfb404a792",
   "metadata": {},
   "outputs": [],
   "source": [
    "import pandas as pd\n",
    "import seaborn as sns"
   ]
  },
  {
   "cell_type": "code",
   "execution_count": 2,
   "id": "af0b3fe4-2444-424d-8859-d547d2284a67",
   "metadata": {},
   "outputs": [
    {
     "name": "stdout",
     "output_type": "stream",
     "text": [
      "data dimensions = (38718, 480)\n"
     ]
    }
   ],
   "source": [
    "eurob = pd.read_csv(\"data/SI395.csv\") ## 38,718 rows 480 columns\n",
    "dfshape = eurob.shape\n",
    "print(\"data dimensions = {}\".format(dfshape)) ##\n",
    "\n",
    "#all_calls = list(eurob.columns)\n",
    "#print(all_calls)"
   ]
  },
  {
   "cell_type": "markdown",
   "id": "2b6c04d2-3efe-41bb-ab07-3f6d4039c1e2",
   "metadata": {},
   "source": [
    "We need two different datasets out of the Eurobarometer\n",
    "\n",
    "To produce these, I'm going to subset by column name, first eyeballing the start and end of the list so sanity check. I'm looking to make sure that the first and last column names in the subset look like survey questions rather than metadata.\n",
    "\n",
    "- Responses\n",
    "These are the columns that correspond to survey responses. According to my notes, these correspond to 57:412. The column names generally start with \"q.\""
   ]
  },
  {
   "cell_type": "code",
   "execution_count": 3,
   "id": "776bb6b8-a72e-4f35-bedc-8e70a40abf52",
   "metadata": {},
   "outputs": [
    {
     "name": "stdout",
     "output_type": "stream",
     "text": [
      "capi_cawi\n"
     ]
    }
   ],
   "source": [
    "questions_subset = list(eurob.columns)[57:412]\n",
    "\n",
    "## Check the first column not selected & verify that format does not look like survey q\n",
    "print(list(eurob.columns)[413]) \n"
   ]
  },
  {
   "cell_type": "markdown",
   "id": "92036478-fe42-463e-967f-2a80d9a5c300",
   "metadata": {},
   "source": [
    "- Respondant attributes\n",
    "We will use these for the visualizations. These are: unique ID, country, social class, d63, qb7_2, and measures of political orientation and trust.\n",
    "\n",
    "[1] \"uniqid\"       \"isocntry\"     \"d63\"          \"qb7_2\"        \"class\"        \"trusttradm\"   \"trustwebonly\"\n",
    " [8] \"trustallm\"    \"trustnom\"     \"polorient\"    \"mediatrust\"  \n",
    "\n",
    "These correspond to \"uniqid\", \"isocntry\", and dummied-variables for: \"d63\", \"qb7_2\", qa6a, qa20, qd4a, d63, qd1\n",
    "\n",
    "Revision: We also need to pull the uniqueID (uniqid), or we will not be able to match the metadata."
   ]
  },
  {
   "cell_type": "code",
   "execution_count": 4,
   "id": "981b1bc4-3fe8-4d32-bd14-41c1af89fdb1",
   "metadata": {},
   "outputs": [
    {
     "name": "stdout",
     "output_type": "stream",
     "text": [
      "['uniqid', 'isocntry', 'd63', 'qb7_2', 'qa6a_1', 'qa6a_2', 'qa6a_3', 'qa6a_4', 'qa6a_5', 'qa6at', 'qa20.1', 'qa20.2', 'qa20.3', 'qa20.4', 'qa20.5', 'qa20.6', 'qa20.7', 'qa20.8', 'qa20.9', 'qa20.10', 'qd4a', 'd63', 'd11', 'd11r1', 'd11r2', 'd10', 'd15a', 'd15a_r1', 'd15a_r2', 'd15b', 'd15b_r', 'd1', 'd1r1', 'd1r2']\n"
     ]
    }
   ],
   "source": [
    "## Question codes for the IDVs (from 00demographics.R in the original)\n",
    "## QA6a - trust in media\n",
    "## QA20 -- who trust for info on covid\n",
    "## QD4a -- where get news\n",
    "## Qd3 is self-identified class\n",
    "## Qd1 is political orientation\n",
    "\n",
    "trust = [col for col in eurob.columns if col.startswith('qa6a')] ## trust in media\n",
    "covidinfo = [col for col in eurob if col.startswith('qa20')] ## who trust for covid news\n",
    "news= [col for col in eurob if col.startswith('qd4a')] ## news consumption\n",
    "social_class = [col for col in eurob if col.startswith('d63')]# self-identified social class \n",
    "pol_oriet = [col for col in eurob if col.startswith('d1')] ## these are demographics (education, employment, gender)\n",
    "    \n",
    "idvs_subset = (['uniqid', 'isocntry', 'd63', 'qb7_2'] + trust + covidinfo + news + social_class + pol_oriet)\n",
    "\n",
    "print(idvs_subset)\n",
    "## Which are missing in our data:\n",
    "## Evidently these are renamed variables from the data. \n",
    "## Find the original \n",
    "#print(set(idvs_subset).difference(set(all_calls))) \n",
    "#print(list(eurob.columns))\n"
   ]
  },
  {
   "cell_type": "code",
   "execution_count": 5,
   "id": "31ea88b7-20f7-407b-838d-2d3e0033a029",
   "metadata": {},
   "outputs": [
    {
     "name": "stdout",
     "output_type": "stream",
     "text": [
      "360\n",
      "(38718, 360)\n",
      "(38718, 480)\n",
      "   qb6_4  d73_4  qa5.15  qa10_3  qa18_4  qb5.11  qc3b.8\n",
      "0    2.0    2.0     0.0       1     3.0     0.0     0.0\n",
      "1    1.0    1.0     0.0       1     2.0     0.0     0.0\n",
      "2    NaN    1.0     NaN       1     NaN     NaN     0.0\n",
      "3    NaN    1.0     NaN       2     NaN     NaN     0.0\n",
      "4    1.0    1.0     0.0       3     2.0     0.0     0.0\n"
     ]
    }
   ],
   "source": [
    "## Subset the data:\n",
    "## Pull the union of the questions and idvs:\n",
    "\n",
    "cols_tot = list(set(questions_subset + idvs_subset))\n",
    "print(len(cols_tot)) ## 360 deduped into a list\n",
    "\n",
    "eurob2 = eurob[cols_tot]\n",
    "print(eurob2.shape) ## 38718, 360\n",
    "print(eurob.shape) ## 38718, 480, so removed 12 columns\n",
    "\n",
    "print(eurob2.iloc[0:5, 0:7]) #eyeball\n",
    "\n",
    "del eurob ## reduce confusion"
   ]
  },
  {
   "cell_type": "markdown",
   "id": "12c1f030-8fed-4ff5-902b-8e7174d741a1",
   "metadata": {},
   "source": [
    "Standardize column names (some have '.' and some have \"_\"):"
   ]
  },
  {
   "cell_type": "code",
   "execution_count": 6,
   "id": "5d26db91-3dfd-465f-8169-7d192d65e04e",
   "metadata": {},
   "outputs": [],
   "source": [
    "eurob2.columns = [c.replace(\".\", \"_\") for c in list(eurob2.columns)]\n",
    "\n",
    "#print(type(eurob2))\n",
    "#print(list(eurob2.columns))"
   ]
  },
  {
   "cell_type": "markdown",
   "id": "c4607de3-6438-412e-b3c2-86ef706c36bd",
   "metadata": {},
   "source": [
    "Construct the composite variables: trusttradm, trustwebonly, trustallm, trustnom, mediatrust, class, polorient "
   ]
  },
  {
   "cell_type": "code",
   "execution_count": 7,
   "id": "d8745232-8c09-40e5-a9d7-f9db617cac98",
   "metadata": {},
   "outputs": [
    {
     "data": {
      "text/plain": [
       "class\n",
       "3    19726\n",
       "1     7473\n",
       "2     6886\n",
       "4     3892\n",
       "5      741\n",
       "Name: count, dtype: int64"
      ]
     },
     "execution_count": 7,
     "metadata": {},
     "output_type": "execute_result"
    }
   ],
   "source": [
    "## Class:\n",
    "eurob2[\"d63\"].value_counts() \n",
    "\n",
    "eurob2['class'] = 0 #None \n",
    "\n",
    "eurob2.loc[eurob2['d63'] == 1, 'class'] = 1 #'WorkingClass'\n",
    "eurob2.loc[eurob2['d63'] == 2, 'class'] = 2 #'LowerMiddle'\n",
    "eurob2.loc[eurob2['d63'] == 3, 'class'] = 3 #'MiddleClass'\n",
    "eurob2.loc[eurob2['d63'] == 4, 'class'] = 4 #'UpperMiddleClass'\n",
    "eurob2.loc[eurob2['d63'] == 5, 'class'] = 5 #'UpperClass'\n",
    "eurob2.loc[eurob2['d63'].isin([6, 7, 8, 9]), 'class'] = 5 #'Other/None/DN/Refused'\n",
    "\n",
    "eurob2[\"class\"].value_counts() \n"
   ]
  },
  {
   "cell_type": "code",
   "execution_count": 8,
   "id": "c56a7f2b-9dd2-4e1e-9e2f-ae0ade714531",
   "metadata": {},
   "outputs": [
    {
     "data": {
      "text/plain": [
       "count    38718.000000\n",
       "mean         3.130327\n",
       "std          1.260320\n",
       "min          1.000000\n",
       "25%          2.000000\n",
       "50%          3.000000\n",
       "75%          4.000000\n",
       "max          6.000000\n",
       "Name: polorient, dtype: float64"
      ]
     },
     "execution_count": 8,
     "metadata": {},
     "output_type": "execute_result"
    }
   ],
   "source": [
    "## Political orientation\n",
    "\n",
    "eurob2['polorient'] = 0 # None\n",
    "\n",
    "eurob2.loc[eurob2['d1'].isin([1, 2]), 'polorient'] = 1 #'FarLeft'\n",
    "eurob2.loc[eurob2['d1'].isin([3, 4]), 'polorient'] = 2 #'Left'\n",
    "eurob2.loc[eurob2['d1'].isin([5, 6]), 'polorient'] = 3 #'Center'\n",
    "eurob2.loc[eurob2['d1'].isin([7, 8]), 'polorient'] =  4 #'Right'\n",
    "eurob2.loc[eurob2['d1'].isin([9, 10]), 'polorient'] = 5 #'FarRight'\n",
    "eurob2.loc[eurob2['d1'].isin([97, 98]), 'polorient'] =  6 #'Refused/DNt'\n",
    "\n",
    "eurob2[\"polorient\"].value_counts() \n",
    "eurob2[\"polorient\"].describe()\n"
   ]
  },
  {
   "cell_type": "code",
   "execution_count": 9,
   "id": "7854d1e1-611d-4b3f-a654-4d507f353257",
   "metadata": {},
   "outputs": [
    {
     "name": "stdout",
     "output_type": "stream",
     "text": [
      "mediatrust\n",
      "1    21988\n",
      "4     7414\n",
      "3     4123\n",
      "9     2953\n",
      "2     2240\n",
      "Name: count, dtype: int64\n"
     ]
    }
   ],
   "source": [
    "## Media Trust\n",
    "eurob2['mediatrust'] = 9 #'Other'\n",
    "\n",
    "eurob2.loc[((eurob2['qa6a_1'] == 1) | \n",
    "           (eurob2['qa6a_2'] == 1) | \n",
    "           ((eurob2['qa6a_3'] == 1) & \n",
    "            (eurob2['qa6a_4'] == 2) & \n",
    "            (eurob2['qa6a_5'] == 2))), \n",
    "          'mediatrust'] = 1 #'TrustTrad'\n",
    "\n",
    "eurob2.loc[((eurob2['qa6a_1'] == 2) & \n",
    "           (eurob2['qa6a_2'] == 2) & \n",
    "           (eurob2['qa6a_3'] == 2) & \n",
    "           ((eurob2['qa6a_4'] == 1) | \n",
    "            (eurob2['qa6a_5'] == 1))), \n",
    "          'mediatrust'] = 2 #'TrustWebOnly'\n",
    "\n",
    "eurob2.loc[((eurob2['qa6a_1'] == 1) & \n",
    "           (eurob2['qa6a_2'] == 1) & \n",
    "           (eurob2['qa6a_3'] == 1) & \n",
    "           (eurob2['qa6a_4'] == 1) & \n",
    "           (eurob2['qa6a_5'] == 1)), 'mediatrust'] = 3 #'TrustAll'\n",
    "\n",
    "eurob2.loc[((eurob2['qa6a_1'] == 2) & \n",
    "           (eurob2['qa6a_2'] == 2) & \n",
    "           (eurob2['qa6a_3'] == 2) & \n",
    "           (eurob2['qa6a_4'] == 2) & \n",
    "           (eurob2['qa6a_5'] == 2)), 'mediatrust'] = 4 # 'TrustNone'\n",
    "\n",
    "print(eurob2['mediatrust'].value_counts())"
   ]
  },
  {
   "cell_type": "code",
   "execution_count": 10,
   "id": "265f91f9-5d1f-4e7b-abee-2ec0a7ea8897",
   "metadata": {},
   "outputs": [
    {
     "name": "stdout",
     "output_type": "stream",
     "text": [
      "trustnom\n",
      "0    31304\n",
      "1     7414\n",
      "Name: count, dtype: int64\n",
      "trustallm\n",
      "0    38718\n",
      "Name: count, dtype: int64\n"
     ]
    }
   ],
   "source": [
    "# Trust no media:\n",
    "\n",
    "eurob2['trustnom']  = 0\n",
    "\n",
    "eurob2.loc[((eurob2['qa6a_1'] == 2) & ## written press\n",
    "           (eurob2['qa6a_2'] == 2) &  ## Radio\n",
    "           (eurob2['qa6a_3'] == 2) & ## TV\n",
    "           (eurob2['qa6a_4'] == 2) & ## Internet\n",
    "           (eurob2['qa6a_5'] == 2)),  ## online social nets\n",
    "          'trustnom'] = 1\n",
    "\n",
    "print(eurob2['trustnom'].value_counts())\n",
    "\n",
    "\n",
    "eurob2['trustallm'] = 0\n",
    "      \n",
    "eurob2.loc[((eurob2['qa6a_1'] ==1) & ## written press\n",
    "            (eurob2['qa6a_2'] ==1) & ## radio\n",
    "            (eurob2['qa6a_3'] ==1) & ## TV\n",
    "            (eurob2['qa6a_4'] == 1) &  ## Internet\n",
    "            (eurob2['qa6a_5'] == 1)),\n",
    "      'trustallm'] <- 1 ## online social nets\n",
    "      \n",
    "print(eurob2['trustallm'].value_counts()) ### Note-- all 0"
   ]
  },
  {
   "cell_type": "code",
   "execution_count": 11,
   "id": "e987d9fc-b241-4f94-9a42-a521099dc00e",
   "metadata": {},
   "outputs": [
    {
     "name": "stdout",
     "output_type": "stream",
     "text": [
      "trustwebonly\n",
      "0    36478\n",
      "1     2240\n",
      "Name: count, dtype: int64\n",
      "trusttradm\n",
      "1    26111\n",
      "0    12607\n",
      "Name: count, dtype: int64\n"
     ]
    }
   ],
   "source": [
    "## Web only\n",
    "\n",
    "eurob2['trustwebonly'] = 0\n",
    "\n",
    "eurob2.loc[((eurob2['qa6a_1'] == 2) & \n",
    "           (eurob2['qa6a_2'] == 2) & \n",
    "           (eurob2['qa6a_3'] == 2) & \n",
    "           ((eurob2['qa6a_4'] == 1) | \n",
    "            (eurob2['qa6a_5'] == 1))),\n",
    "          'trustwebonly'] = 1\n",
    "\n",
    "print(eurob2['trustwebonly'].value_counts())\n",
    "\n",
    "## Trust traditional:\n",
    "eurob2['trusttradm'] = 0\n",
    "\n",
    "# Assigning value 1 based on conditions\n",
    "eurob2.loc[((eurob2['qa6a_1'] == 1) | \n",
    "           (eurob2['qa6a_2'] == 1) | \n",
    "           ((eurob2['qa6a_3'] == 1) & \n",
    "            (eurob2['qa6a_4'] == 2) & \n",
    "            (eurob2['qa6a_5'] == 2))),\n",
    "          'trusttradm'] = 1\n",
    "\n",
    "print(eurob2['trusttradm'].value_counts())\n"
   ]
  },
  {
   "cell_type": "code",
   "execution_count": 12,
   "id": "0786bb7b-8106-4f03-aac1-d03a4626fd3a",
   "metadata": {},
   "outputs": [
    {
     "name": "stdout",
     "output_type": "stream",
     "text": [
      "40\n"
     ]
    }
   ],
   "source": [
    "print(len(eurob2[\"isocntry\"].value_counts())) ## 40 countries represented\n"
   ]
  },
  {
   "cell_type": "markdown",
   "id": "2d834188-727e-4548-afb2-84be666d627f",
   "metadata": {},
   "source": [
    "## Part Two: Sample from the full data\n",
    "\n",
    "Taking a subset of the rows to reduce the resources needed from the synthetic data algorithm.\n",
    "\n",
    "(At some point, I might do away with this entirely if it is worth investing in the full infrastructure.)"
   ]
  },
  {
   "cell_type": "code",
   "execution_count": 13,
   "id": "db508b09-5dfa-44cc-a176-3e37ff4941ec",
   "metadata": {},
   "outputs": [
    {
     "name": "stdout",
     "output_type": "stream",
     "text": [
      "(3872, 367)\n"
     ]
    }
   ],
   "source": [
    "\n",
    "eurob_toy = eurob2.sample(frac=0.1,\n",
    "                         replace=False, \n",
    "                         random_state= 42424)\n",
    "\n",
    "print(eurob_toy.shape) ##3872 x 367"
   ]
  },
  {
   "cell_type": "code",
   "execution_count": 14,
   "id": "055bddce-340b-4f59-834f-e81d61fbcc5d",
   "metadata": {},
   "outputs": [],
   "source": [
    "## Save the data:\n",
    "\n",
    "eurob_toy.to_csv(\"eurob_toy.csv\", index=False)\n",
    "\n",
    "## Save the vector of userID:"
   ]
  },
  {
   "cell_type": "code",
   "execution_count": null,
   "id": "8a08de83-9266-4663-a7ca-33ecb2b8526e",
   "metadata": {},
   "outputs": [],
   "source": []
  },
  {
   "cell_type": "code",
   "execution_count": null,
   "id": "95e1124c-a780-49a1-887f-95d2eec49075",
   "metadata": {},
   "outputs": [],
   "source": []
  }
 ],
 "metadata": {
  "kernelspec": {
   "display_name": "Python 3 (ipykernel)",
   "language": "python",
   "name": "python3"
  },
  "language_info": {
   "codemirror_mode": {
    "name": "ipython",
    "version": 3
   },
   "file_extension": ".py",
   "mimetype": "text/x-python",
   "name": "python",
   "nbconvert_exporter": "python",
   "pygments_lexer": "ipython3",
   "version": "3.9.12"
  }
 },
 "nbformat": 4,
 "nbformat_minor": 5
}
