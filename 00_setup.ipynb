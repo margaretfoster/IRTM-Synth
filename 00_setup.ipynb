{
 "cells": [
  {
   "cell_type": "markdown",
   "id": "bb774491-5770-487e-9880-19e9ec8d6b1f",
   "metadata": {},
   "source": [
    "Here doing setup and testing to create synthetic survey data for the IRTM package.\n",
    "\n",
    "Goal(s):\n",
    "- Create synthetic extensions of the Eurobarometer 94.3 survey data, to ship with the IRTM package\n",
    "- Ideal: Create a synthetic extension of the Afrobarometer data, to illustrate IRTM collating data across time and space"
   ]
  },
  {
   "cell_type": "markdown",
   "id": "2ed933c3-05e2-43ac-a3f0-ccd9b4276c48",
   "metadata": {},
   "source": [
    "## Design:\n",
    "\n",
    "1) Collect canadiate Python libraries\n",
    "2) Create a testing sample of the Eurobarometer data.\n",
    "    First trial on 5% of the number of rows in the data; second on 10% of the data.\n",
    "3) Identify metrics to assess the quality of the synthetic data\n",
    "    - Column-wise K-S tests for variables?\n",
    "    - Visual analysis of heatmap for within-data correlation\n",
    "    \n",
    "4) Run through the IRT-M vignette (IRT-M Synth/ introduction-synth.Rmd)"
   ]
  },
  {
   "cell_type": "markdown",
   "id": "c47c25d5-41a8-4a9e-aaff-a48dd62629c6",
   "metadata": {},
   "source": [
    "Candidate Packages:\n",
    "- ydata-synthetic\n",
    "- Gretel.ai"
   ]
  },
  {
   "cell_type": "markdown",
   "id": "cd5061ba-5d34-4176-b4ea-10379eae5b17",
   "metadata": {},
   "source": [
    "## Steps for Implementation\n",
    "\n",
    "1) Collect and subset the Eurobarometer data\n",
    "   In: 01_data_prep.ipynb\n",
    "   Considerations: \n",
    "       - Extract the columns needed for the IRTM vignette (questions and metadata)\n",
    "       - Ensure that all variables are numeric (aka: no strings)\n",
    "       \n",
    "2) Generate synthetic data\n",
    "    Jypter Notebook running on Google Colabs infrastructure. \n",
    "    Approximately 3 hours with 5% of the data; more with 10%. 10% times out unless using Colab premium.\n",
    "    \n",
    "3) Run diagnostics on synthetic data as compared to real data\n",
    "\n",
    "4) Send synthetic data through the IRTM-Synth vignette\n",
    "\n",
    "5) Incorporate the synthetic data into the official IRTM Package\n",
    "   \n"
   ]
  }
 ],
 "metadata": {
  "kernelspec": {
   "display_name": "Python 3 (ipykernel)",
   "language": "python",
   "name": "python3"
  },
  "language_info": {
   "codemirror_mode": {
    "name": "ipython",
    "version": 3
   },
   "file_extension": ".py",
   "mimetype": "text/x-python",
   "name": "python",
   "nbconvert_exporter": "python",
   "pygments_lexer": "ipython3",
   "version": "3.9.12"
  }
 },
 "nbformat": 4,
 "nbformat_minor": 5
}
