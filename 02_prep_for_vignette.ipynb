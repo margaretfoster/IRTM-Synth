{
 "cells": [
  {
   "cell_type": "markdown",
   "id": "fba1e56d-4580-4cc4-85bf-cdb785a4db69",
   "metadata": {},
   "source": [
    "This notebook takes the synthetic data and partitions it into\n",
    "the \"question\" and IDV subsets for the R vignette."
   ]
  },
  {
   "cell_type": "code",
   "execution_count": 14,
   "id": "6cae538b-0957-4707-93c5-b76b473b0a6b",
   "metadata": {},
   "outputs": [
    {
     "name": "stdout",
     "output_type": "stream",
     "text": [
      "/Users/Promachos/Dropbox (Personal)/IRTM-Pkg/IRTM-Synth/IRTM-Synth\n",
      "['/Users/Promachos/Dropbox (Personal)/IRTM-Pkg/IRTM-Synth/IRTM-Synth/data/synth_questions.csv', '/Users/Promachos/Dropbox (Personal)/IRTM-Pkg/IRTM-Synth/IRTM-Synth/data/mcodes.rda', '/Users/Promachos/Dropbox (Personal)/IRTM-Pkg/IRTM-Synth/IRTM-Synth/data/EB_M.rds', '/Users/Promachos/Dropbox (Personal)/IRTM-Pkg/IRTM-Synth/IRTM-Synth/data/eurob_toy.csv', '/Users/Promachos/Dropbox (Personal)/IRTM-Pkg/IRTM-Synth/IRTM-Synth/data/EB_Y.rds', '/Users/Promachos/Dropbox (Personal)/IRTM-Pkg/IRTM-Synth/IRTM-Synth/data/ebdatDemographVaribs.rda', '/Users/Promachos/Dropbox (Personal)/IRTM-Pkg/IRTM-Synth/IRTM-Synth/data/eurob_sample_ids.csv', '/Users/Promachos/Dropbox (Personal)/IRTM-Pkg/IRTM-Synth/IRTM-Synth/data/SI395.csv', '/Users/Promachos/Dropbox (Personal)/IRTM-Pkg/IRTM-Synth/IRTM-Synth/data/synth_idvs.csv', '/Users/Promachos/Dropbox (Personal)/IRTM-Pkg/IRTM-Synth/IRTM-Synth/data/synth_test.csv']\n"
     ]
    }
   ],
   "source": [
    "import pandas as pd\n",
    "import numpy as nd\n",
    "import os\n",
    "import glob \n",
    "\n",
    "cwd = os.getcwd()\n",
    "\n",
    "print(cwd)\n",
    "print(glob.glob(cwd + \"/data/*\" ))"
   ]
  },
  {
   "cell_type": "code",
   "execution_count": 15,
   "id": "bf5a0ece-696a-4e22-8f9e-0745c087124f",
   "metadata": {},
   "outputs": [
    {
     "name": "stdout",
     "output_type": "stream",
     "text": [
      "(3000, 172)\n"
     ]
    }
   ],
   "source": [
    "#datapath = \"/data/\"\n",
    "ebsynth = pd.read_csv(\"./data/synth_test.csv\")\n",
    "\n",
    "print(ebsynth.shape) ## 3000 X 172"
   ]
  },
  {
   "cell_type": "markdown",
   "id": "7143328b-0454-4558-97ed-ade5f8f405e0",
   "metadata": {},
   "source": [
    "Subset the IDVs, and undo the numeric recoding of the string variables that we had to do for YSynth."
   ]
  },
  {
   "cell_type": "code",
   "execution_count": 16,
   "id": "1cb95389-d2d1-4f47-a693-f28165d445f8",
   "metadata": {},
   "outputs": [
    {
     "name": "stdout",
     "output_type": "stream",
     "text": [
      "['uniqid', 'd63', 'class', 'polorient', 'mediatrust', 'trustnom', 'trustallm', 'trustwebonly', 'trusttradm', 'qa6a_1', 'qa6a_2', 'qa6a_5', 'qa6a_3', 'qa6at', 'qa6a_4', 'd63', 'd15a', 'd1r2', 'd1', 'd11r1', 'd10', 'd1r1', 'd15a_r1', 'd11', 'd11r2', 'd15a_r2']\n",
      "(3000, 26)\n"
     ]
    }
   ],
   "source": [
    "## Code from previous script:\n",
    "\n",
    "## Will need 'isocntry'\n",
    "trust = [col for col in ebsynth.columns if col.startswith('qa6a')] ## trust in media\n",
    "covidinfo = [col for col in ebsynth if col.startswith('qa20')] ## who trust for covid news\n",
    "news= [col for col in ebsynth if col.startswith('qd4a')] ## news consumption\n",
    "social_class = [col for col in ebsynth if col.startswith('d63')]# self-identified social class \n",
    "pol_oriet = [col for col in ebsynth if col.startswith('d1')] ## these are demographics (education, employment, gender)\n",
    "    \n",
    "idvs_subset = (['uniqid', 'd63', 'class', 'polorient',\n",
    "                'mediatrust', 'trustnom', 'trustallm',\n",
    "                'trustwebonly', 'trusttradm'] + trust + covidinfo + news + social_class + pol_oriet)\n",
    "\n",
    "print(idvs_subset) ## Note that this is a set, so no repetitions\n",
    "\n",
    "idvs = ebsynth[idvs_subset] ## \n",
    "\n",
    "print(idvs.shape) ## 3000 x 26"
   ]
  },
  {
   "cell_type": "markdown",
   "id": "a1229b76-f61d-4f8b-a50f-19d3d7e1065a",
   "metadata": {},
   "source": [
    "Re-map the string values to the IDVs (from numeric format needed for the synth). \n",
    "This is for convenience:"
   ]
  },
  {
   "cell_type": "code",
   "execution_count": 17,
   "id": "836f08b9-e50b-4b3f-b8e5-414a2a7ece46",
   "metadata": {},
   "outputs": [
    {
     "data": {
      "text/plain": [
       "class\n",
       "MiddleClass         1161\n",
       "WorkingClass         828\n",
       "LowerMiddle          483\n",
       "UpperMiddleClass     395\n",
       "UpperClass           133\n",
       "Name: count, dtype: int64"
      ]
     },
     "execution_count": 17,
     "metadata": {},
     "output_type": "execute_result"
    }
   ],
   "source": [
    "## NOTE -- 5/6/24 I caught a coding error in the original; which I'll have to go through and update\n",
    "#idvs[\"class\"].value_counts() \n",
    " \n",
    "idvs.loc[idvs['class'] == 1, 'class'] = 'WorkingClass'\n",
    "idvs.loc[idvs['class'] == 2, 'class'] = 'LowerMiddle'\n",
    "idvs.loc[idvs['class'] == 3, 'class'] = 'MiddleClass'\n",
    "idvs.loc[idvs['class'] == 4, 'class'] = 'UpperMiddleClass'\n",
    "idvs.loc[idvs['class'] == 5, 'class'] = 'UpperClass'\n",
    "#idvs.loc[idvs['class'].isin([6, 7, 8, 9]), 'class'] = 5 #'Other/None/DN/Refused' (This should have been coded as 6)\n",
    "\n",
    "idvs[\"class\"].value_counts() "
   ]
  },
  {
   "cell_type": "code",
   "execution_count": 18,
   "id": "5d4883a9-9f87-4cba-9343-b22fdd72798f",
   "metadata": {},
   "outputs": [
    {
     "data": {
      "text/plain": [
       "polorient\n",
       "Left           1211\n",
       "Center          869\n",
       "Right           339\n",
       "Refused/DNt     242\n",
       "FarRight        194\n",
       "FarLeft         145\n",
       "Name: count, dtype: int64"
      ]
     },
     "execution_count": 18,
     "metadata": {},
     "output_type": "execute_result"
    }
   ],
   "source": [
    "## Political orientation\n",
    "idvs.loc[idvs['polorient'] == 1, 'polorient'] = 'FarLeft'\n",
    "idvs.loc[idvs['polorient'] == 2, 'polorient'] = 'Left'\n",
    "idvs.loc[idvs['polorient'] == 3, 'polorient'] = 'Center'\n",
    "idvs.loc[idvs['polorient'] == 4, 'polorient'] = 'Right'\n",
    "idvs.loc[idvs['polorient'] == 5, 'polorient'] = 'FarRight'\n",
    "idvs.loc[idvs['polorient'] == 6, 'polorient'] = 'Refused/DNt'\n",
    "\n",
    "idvs[\"polorient\"].value_counts() \n",
    "#idvs[\"polorient\"].describe()"
   ]
  },
  {
   "cell_type": "code",
   "execution_count": 19,
   "id": "68769c0b-06e1-4266-95da-8bb0d11c1cda",
   "metadata": {},
   "outputs": [
    {
     "name": "stdout",
     "output_type": "stream",
     "text": [
      "mediatrust\n",
      "TrustTrad       1192\n",
      "TrustNone        866\n",
      "TrustAll         611\n",
      "TrustWebOnly     169\n",
      "Other            162\n",
      "Name: count, dtype: int64\n"
     ]
    }
   ],
   "source": [
    "idvs.loc[idvs['mediatrust'] == 1, 'mediatrust'] = 'TrustTrad' #\n",
    "idvs.loc[idvs['mediatrust'] == 2, 'mediatrust'] = 'TrustWebOnly' #\n",
    "idvs.loc[idvs['mediatrust'] == 3, 'mediatrust'] = 'TrustAll' #\n",
    "idvs.loc[idvs['mediatrust'] == 4, 'mediatrust'] = 'TrustNone' #\n",
    "idvs.loc[idvs['mediatrust'] == 9, 'mediatrust'] = 'Other' #\n",
    "print(idvs['mediatrust'].value_counts())"
   ]
  },
  {
   "cell_type": "code",
   "execution_count": 20,
   "id": "6e5e1a7a-6deb-48cd-b480-f0d348496a02",
   "metadata": {},
   "outputs": [
    {
     "name": "stdout",
     "output_type": "stream",
     "text": [
      "trustnom\n",
      "0    2582\n",
      "1     418\n",
      "Name: count, dtype: int64\n"
     ]
    }
   ],
   "source": [
    "print(idvs['trustnom'].value_counts()) ## 0/1"
   ]
  },
  {
   "cell_type": "code",
   "execution_count": 21,
   "id": "70431407-bd32-4989-88c3-37d64f465c13",
   "metadata": {},
   "outputs": [
    {
     "data": {
      "text/plain": [
       "<bound method NDFrame.describe of          uniqid  d63             class polorient mediatrust  trustnom  \\\n",
       "0     320387826    3       MiddleClass  FarRight      Other         0   \n",
       "1     394380111    4      WorkingClass    Center   TrustAll         0   \n",
       "2     139929284    1       MiddleClass    Center  TrustTrad         0   \n",
       "3     424648035    3       LowerMiddle      Left   TrustAll         0   \n",
       "4     478547108    3      WorkingClass    Center  TrustTrad         0   \n",
       "...         ...  ...               ...       ...        ...       ...   \n",
       "2995  391427319    3        UpperClass      Left  TrustTrad         0   \n",
       "2996  100729289    3       MiddleClass  FarRight  TrustNone         0   \n",
       "2997  431738794    3      WorkingClass      Left  TrustTrad         0   \n",
       "2998  309079928    3  UpperMiddleClass    Center  TrustTrad         0   \n",
       "2999  252505987    1       LowerMiddle      Left  TrustNone         0   \n",
       "\n",
       "      trustallm  trustwebonly  trusttradm  qa6a_1  ...  d15a  d1r2  d1  d11r1  \\\n",
       "0             0             0           1       1  ...    -1     1   9      3   \n",
       "1             0             0           1       1  ...     3     2   8      2   \n",
       "2             0             0           1       1  ...    19     1   6      3   \n",
       "3             0             0           1       1  ...    10     3   5      4   \n",
       "4             0             0           1       1  ...    15     2   7      3   \n",
       "...         ...           ...         ...     ...  ...   ...   ...  ..    ...   \n",
       "2995          0             0           1       1  ...    10     2   2      2   \n",
       "2996          0             0           1       1  ...    13     2   1      4   \n",
       "2997          0             0           1       2  ...    20     3   4      2   \n",
       "2998          0             0           1       1  ...     3     1   4      4   \n",
       "2999          0             0           0       1  ...     1     3   4      2   \n",
       "\n",
       "      d10  d1r1  d15a_r1  d11  d11r2  d15a_r2  \n",
       "0       1     9        1   59      3        1  \n",
       "1       1     3        1   81      3        2  \n",
       "2       1     2        3   32      2        7  \n",
       "3       2     3        2   95      5        2  \n",
       "4       2     3        2   48      4        7  \n",
       "...   ...   ...      ...  ...    ...      ...  \n",
       "2995    2     3        2   69      2        2  \n",
       "2996    1     2        2   85      6        7  \n",
       "2997    1     3        2   40      1        7  \n",
       "2998    1     3        2   59      1        3  \n",
       "2999    1     9        2   28      1        8  \n",
       "\n",
       "[3000 rows x 26 columns]>"
      ]
     },
     "execution_count": 21,
     "metadata": {},
     "output_type": "execute_result"
    }
   ],
   "source": [
    "idvs.describe\n"
   ]
  },
  {
   "cell_type": "code",
   "execution_count": 22,
   "id": "f6db5a25-3009-4582-a7ca-c92c7c46c05b",
   "metadata": {},
   "outputs": [],
   "source": [
    "idvs.to_csv('./data/synth_idvs.csv')"
   ]
  },
  {
   "cell_type": "code",
   "execution_count": 23,
   "id": "52276b34-3a12-42c3-b44f-3b83bba2cd86",
   "metadata": {},
   "outputs": [],
   "source": [
    "ebsynth = ebsynth.drop(idvs_subset, axis = 1)"
   ]
  },
  {
   "cell_type": "code",
   "execution_count": 11,
   "id": "a0d472b4-e21c-4f99-88aa-0f6e42d99279",
   "metadata": {},
   "outputs": [
    {
     "name": "stdout",
     "output_type": "stream",
     "text": [
      "Index(['Unnamed: 0', 'd73_4', 'qa10_3', 'qd5_14', 'qa4a_5', 'qa2a_4',\n",
      "       'polintr_4', 'qa2a_5', 'd40b', 'qa6b_3',\n",
      "       ...\n",
      "       'qd5_3', 'd62t', 'qa18_2', 'd73_3', 'qa4a_7', 'sd18a', 'qa4a_10',\n",
      "       'qa7_2', 'qa1a_7', 'qa4a_2'],\n",
      "      dtype='object', length=147)\n"
     ]
    }
   ],
   "source": [
    "print(ebsynth.columns)"
   ]
  },
  {
   "cell_type": "code",
   "execution_count": 12,
   "id": "a06325c5-6e15-4693-9499-11bd52fffcca",
   "metadata": {},
   "outputs": [
    {
     "name": "stdout",
     "output_type": "stream",
     "text": [
      "66\n"
     ]
    }
   ],
   "source": []
  },
  {
   "cell_type": "code",
   "execution_count": 24,
   "id": "ef4a7667-0824-49ec-a1ae-a472999ff466",
   "metadata": {},
   "outputs": [],
   "source": [
    "ebsynth.to_csv('./data/synth_questions.csv')"
   ]
  },
  {
   "cell_type": "code",
   "execution_count": null,
   "id": "b8049849-cb74-4d95-a363-c3031d4d50d5",
   "metadata": {},
   "outputs": [],
   "source": []
  },
  {
   "cell_type": "code",
   "execution_count": null,
   "id": "d4a02ebb-eff0-469e-8abb-bd5354dc540e",
   "metadata": {},
   "outputs": [],
   "source": []
  }
 ],
 "metadata": {
  "kernelspec": {
   "display_name": "Python 3 (ipykernel)",
   "language": "python",
   "name": "python3"
  },
  "language_info": {
   "codemirror_mode": {
    "name": "ipython",
    "version": 3
   },
   "file_extension": ".py",
   "mimetype": "text/x-python",
   "name": "python",
   "nbconvert_exporter": "python",
   "pygments_lexer": "ipython3",
   "version": "3.9.12"
  }
 },
 "nbformat": 4,
 "nbformat_minor": 5
}
